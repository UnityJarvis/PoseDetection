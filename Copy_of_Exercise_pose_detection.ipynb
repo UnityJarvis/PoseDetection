{
  "cells": [
    {
      "cell_type": "code",
      "execution_count": null,
      "metadata": {
        "id": "RXbRVmXNk0Da"
      },
      "outputs": [],
      "source": [
        "import pandas as pd\n",
        "import numpy as np"
      ]
    },
    {
      "cell_type": "code",
      "execution_count": null,
      "metadata": {
        "id": "wfI-CHXbpxKc"
      },
      "outputs": [],
      "source": [
        "file_1 = pd.read_csv('3d_distances.csv')\n",
        "file_2 = pd.read_csv('angles.csv')\n",
        "file_3 = pd.read_csv('labels.csv')\n",
        "file_4 = pd.read_csv('landmarks.csv')\n",
        "file_5 = pd.read_csv('xyz_distances.csv')"
      ]
    },
    {
      "cell_type": "code",
      "execution_count": null,
      "metadata": {
        "id": "ul45NZKzqF4p"
      },
      "outputs": [],
      "source": [
        "merged_data = pd.merge(file_4,file_5,on='pose_id')\n",
        "merged_data = pd.merge(merged_data,file_1,on='pose_id')\n",
        "merged_data = pd.merge(merged_data,file_2,on='pose_id')\n",
        "\n",
        "merged_data = pd.merge(merged_data,file_3,on='pose_id')"
      ]
    },
    {
      "cell_type": "code",
      "source": [
        "merged_data.shape"
      ],
      "metadata": {
        "colab": {
          "base_uri": "https://localhost:8080/"
        },
        "id": "BVp6pNFmL7X6",
        "outputId": "d9d10842-1b9e-492b-d908-bebebbe89f7a"
      },
      "execution_count": null,
      "outputs": [
        {
          "output_type": "execute_result",
          "data": {
            "text/plain": [
              "(1372, 172)"
            ]
          },
          "metadata": {},
          "execution_count": 119
        }
      ]
    },
    {
      "cell_type": "code",
      "execution_count": null,
      "metadata": {
        "id": "rZBwtd5CqiKj"
      },
      "outputs": [],
      "source": [
        "# merged_data = pd.merge(file_1,file_2,on='pose_id')\n",
        "# merged_data = pd.merge(merged_data,file_3,on='pose_id')\n",
        "# merged_data = pd.merge(merged_data,file_4,on='pose_id')\n",
        "# merged_data = pd.merge(merged_data,file_5,on='pose_id')\n",
        "merged_data = merged_data.drop('pose_id',axis=1)\n",
        "merged_data = merged_data.drop('right_knee_mid_hip_left_knee',axis=1)"
      ]
    },
    {
      "cell_type": "code",
      "execution_count": null,
      "metadata": {
        "colab": {
          "base_uri": "https://localhost:8080/"
        },
        "id": "26PenYHirRLY",
        "outputId": "3189acb5-6a2b-4e5d-a321-905e9b112ef2"
      },
      "outputs": [
        {
          "output_type": "execute_result",
          "data": {
            "text/plain": [
              "(1372, 170)"
            ]
          },
          "metadata": {},
          "execution_count": 121
        }
      ],
      "source": [
        "merged_data.shape"
      ]
    },
    {
      "cell_type": "code",
      "execution_count": null,
      "metadata": {
        "colab": {
          "base_uri": "https://localhost:8080/"
        },
        "id": "Ex9n3lifrXBc",
        "outputId": "f601760e-af10-459b-e595-e04899ff28b3"
      },
      "outputs": [
        {
          "output_type": "execute_result",
          "data": {
            "text/plain": [
              "0       jumping_jacks_down\n",
              "1       jumping_jacks_down\n",
              "2       jumping_jacks_down\n",
              "3       jumping_jacks_down\n",
              "4       jumping_jacks_down\n",
              "               ...        \n",
              "1367             squats_up\n",
              "1368             squats_up\n",
              "1369             squats_up\n",
              "1370             squats_up\n",
              "1371             squats_up\n",
              "Name: pose, Length: 1372, dtype: object"
            ]
          },
          "metadata": {},
          "execution_count": 122
        }
      ],
      "source": [
        "merged_data['pose']"
      ]
    },
    {
      "cell_type": "code",
      "execution_count": null,
      "metadata": {
        "colab": {
          "base_uri": "https://localhost:8080/",
          "height": 143
        },
        "id": "qBGm1afTre-Y",
        "outputId": "8073a861-9833-4ba2-9bad-9334dbb05403"
      },
      "outputs": [
        {
          "output_type": "execute_result",
          "data": {
            "text/plain": [
              "Empty DataFrame\n",
              "Columns: [x_nose, y_nose, z_nose, x_left_eye_inner, y_left_eye_inner, z_left_eye_inner, x_left_eye, y_left_eye, z_left_eye, x_left_eye_outer, y_left_eye_outer, z_left_eye_outer, x_right_eye_inner, y_right_eye_inner, z_right_eye_inner, x_right_eye, y_right_eye, z_right_eye, x_right_eye_outer, y_right_eye_outer, z_right_eye_outer, x_left_ear, y_left_ear, z_left_ear, x_right_ear, y_right_ear, z_right_ear, x_mouth_left, y_mouth_left, z_mouth_left, x_mouth_right, y_mouth_right, z_mouth_right, x_left_shoulder, y_left_shoulder, z_left_shoulder, x_right_shoulder, y_right_shoulder, z_right_shoulder, x_left_elbow, y_left_elbow, z_left_elbow, x_right_elbow, y_right_elbow, z_right_elbow, x_left_wrist, y_left_wrist, z_left_wrist, x_right_wrist, y_right_wrist, z_right_wrist, x_left_pinky_1, y_left_pinky_1, z_left_pinky_1, x_right_pinky_1, y_right_pinky_1, z_right_pinky_1, x_left_index_1, y_left_index_1, z_left_index_1, x_right_index_1, y_right_index_1, z_right_index_1, x_left_thumb_2, y_left_thumb_2, z_left_thumb_2, x_right_thumb_2, y_right_thumb_2, z_right_thumb_2, x_left_hip, y_left_hip, z_left_hip, x_right_hip, y_right_hip, z_right_hip, x_left_knee, y_left_knee, z_left_knee, x_right_knee, y_right_knee, z_right_knee, x_left_ankle, y_left_ankle, z_left_ankle, x_right_ankle, y_right_ankle, z_right_ankle, x_left_heel, y_left_heel, z_left_heel, x_right_heel, y_right_heel, z_right_heel, x_left_foot_index, y_left_foot_index, z_left_foot_index, x_right_foot_index, y_right_foot_index, z_right_foot_index, x_left_shoulder_left_wrist, ...]\n",
              "Index: []\n",
              "\n",
              "[0 rows x 170 columns]"
            ],
            "text/html": [
              "\n",
              "\n",
              "  <div id=\"df-bc7af705-434d-4d98-8727-bfb074819c5e\">\n",
              "    <div class=\"colab-df-container\">\n",
              "      <div>\n",
              "<style scoped>\n",
              "    .dataframe tbody tr th:only-of-type {\n",
              "        vertical-align: middle;\n",
              "    }\n",
              "\n",
              "    .dataframe tbody tr th {\n",
              "        vertical-align: top;\n",
              "    }\n",
              "\n",
              "    .dataframe thead th {\n",
              "        text-align: right;\n",
              "    }\n",
              "</style>\n",
              "<table border=\"1\" class=\"dataframe\">\n",
              "  <thead>\n",
              "    <tr style=\"text-align: right;\">\n",
              "      <th></th>\n",
              "      <th>x_nose</th>\n",
              "      <th>y_nose</th>\n",
              "      <th>z_nose</th>\n",
              "      <th>x_left_eye_inner</th>\n",
              "      <th>y_left_eye_inner</th>\n",
              "      <th>z_left_eye_inner</th>\n",
              "      <th>x_left_eye</th>\n",
              "      <th>y_left_eye</th>\n",
              "      <th>z_left_eye</th>\n",
              "      <th>x_left_eye_outer</th>\n",
              "      <th>...</th>\n",
              "      <th>left_ankle_right_ankle</th>\n",
              "      <th>left_hip_avg_left_wrist_left_ankle</th>\n",
              "      <th>right_hip_avg_right_wrist_right_ankle</th>\n",
              "      <th>right_elbow_right_shoulder_right_hip</th>\n",
              "      <th>left_elbow_left_shoulder_left_hip</th>\n",
              "      <th>right_hip_right_knee_right_ankle</th>\n",
              "      <th>left_hip_left_knee_left_ankle</th>\n",
              "      <th>right_wrist_right_elbow_right_shoulder</th>\n",
              "      <th>left_wrist_left_elbow_left_shoulder</th>\n",
              "      <th>pose</th>\n",
              "    </tr>\n",
              "  </thead>\n",
              "  <tbody>\n",
              "  </tbody>\n",
              "</table>\n",
              "<p>0 rows × 170 columns</p>\n",
              "</div>\n",
              "      <button class=\"colab-df-convert\" onclick=\"convertToInteractive('df-bc7af705-434d-4d98-8727-bfb074819c5e')\"\n",
              "              title=\"Convert this dataframe to an interactive table.\"\n",
              "              style=\"display:none;\">\n",
              "\n",
              "  <svg xmlns=\"http://www.w3.org/2000/svg\" height=\"24px\"viewBox=\"0 0 24 24\"\n",
              "       width=\"24px\">\n",
              "    <path d=\"M0 0h24v24H0V0z\" fill=\"none\"/>\n",
              "    <path d=\"M18.56 5.44l.94 2.06.94-2.06 2.06-.94-2.06-.94-.94-2.06-.94 2.06-2.06.94zm-11 1L8.5 8.5l.94-2.06 2.06-.94-2.06-.94L8.5 2.5l-.94 2.06-2.06.94zm10 10l.94 2.06.94-2.06 2.06-.94-2.06-.94-.94-2.06-.94 2.06-2.06.94z\"/><path d=\"M17.41 7.96l-1.37-1.37c-.4-.4-.92-.59-1.43-.59-.52 0-1.04.2-1.43.59L10.3 9.45l-7.72 7.72c-.78.78-.78 2.05 0 2.83L4 21.41c.39.39.9.59 1.41.59.51 0 1.02-.2 1.41-.59l7.78-7.78 2.81-2.81c.8-.78.8-2.07 0-2.86zM5.41 20L4 18.59l7.72-7.72 1.47 1.35L5.41 20z\"/>\n",
              "  </svg>\n",
              "      </button>\n",
              "\n",
              "\n",
              "\n",
              "    <div id=\"df-44bda7c8-8be7-4708-9ec2-6ea5fd558871\">\n",
              "      <button class=\"colab-df-quickchart\" onclick=\"quickchart('df-44bda7c8-8be7-4708-9ec2-6ea5fd558871')\"\n",
              "              title=\"Suggest charts.\"\n",
              "              style=\"display:none;\">\n",
              "\n",
              "<svg xmlns=\"http://www.w3.org/2000/svg\" height=\"24px\"viewBox=\"0 0 24 24\"\n",
              "     width=\"24px\">\n",
              "    <g>\n",
              "        <path d=\"M19 3H5c-1.1 0-2 .9-2 2v14c0 1.1.9 2 2 2h14c1.1 0 2-.9 2-2V5c0-1.1-.9-2-2-2zM9 17H7v-7h2v7zm4 0h-2V7h2v10zm4 0h-2v-4h2v4z\"/>\n",
              "    </g>\n",
              "</svg>\n",
              "      </button>\n",
              "    </div>\n",
              "\n",
              "<style>\n",
              "  .colab-df-quickchart {\n",
              "    background-color: #E8F0FE;\n",
              "    border: none;\n",
              "    border-radius: 50%;\n",
              "    cursor: pointer;\n",
              "    display: none;\n",
              "    fill: #1967D2;\n",
              "    height: 32px;\n",
              "    padding: 0 0 0 0;\n",
              "    width: 32px;\n",
              "  }\n",
              "\n",
              "  .colab-df-quickchart:hover {\n",
              "    background-color: #E2EBFA;\n",
              "    box-shadow: 0px 1px 2px rgba(60, 64, 67, 0.3), 0px 1px 3px 1px rgba(60, 64, 67, 0.15);\n",
              "    fill: #174EA6;\n",
              "  }\n",
              "\n",
              "  [theme=dark] .colab-df-quickchart {\n",
              "    background-color: #3B4455;\n",
              "    fill: #D2E3FC;\n",
              "  }\n",
              "\n",
              "  [theme=dark] .colab-df-quickchart:hover {\n",
              "    background-color: #434B5C;\n",
              "    box-shadow: 0px 1px 3px 1px rgba(0, 0, 0, 0.15);\n",
              "    filter: drop-shadow(0px 1px 2px rgba(0, 0, 0, 0.3));\n",
              "    fill: #FFFFFF;\n",
              "  }\n",
              "</style>\n",
              "\n",
              "    <script>\n",
              "      async function quickchart(key) {\n",
              "        const containerElement = document.querySelector('#' + key);\n",
              "        const charts = await google.colab.kernel.invokeFunction(\n",
              "            'suggestCharts', [key], {});\n",
              "      }\n",
              "    </script>\n",
              "\n",
              "      <script>\n",
              "\n",
              "function displayQuickchartButton(domScope) {\n",
              "  let quickchartButtonEl =\n",
              "    domScope.querySelector('#df-44bda7c8-8be7-4708-9ec2-6ea5fd558871 button.colab-df-quickchart');\n",
              "  quickchartButtonEl.style.display =\n",
              "    google.colab.kernel.accessAllowed ? 'block' : 'none';\n",
              "}\n",
              "\n",
              "        displayQuickchartButton(document);\n",
              "      </script>\n",
              "      <style>\n",
              "    .colab-df-container {\n",
              "      display:flex;\n",
              "      flex-wrap:wrap;\n",
              "      gap: 12px;\n",
              "    }\n",
              "\n",
              "    .colab-df-convert {\n",
              "      background-color: #E8F0FE;\n",
              "      border: none;\n",
              "      border-radius: 50%;\n",
              "      cursor: pointer;\n",
              "      display: none;\n",
              "      fill: #1967D2;\n",
              "      height: 32px;\n",
              "      padding: 0 0 0 0;\n",
              "      width: 32px;\n",
              "    }\n",
              "\n",
              "    .colab-df-convert:hover {\n",
              "      background-color: #E2EBFA;\n",
              "      box-shadow: 0px 1px 2px rgba(60, 64, 67, 0.3), 0px 1px 3px 1px rgba(60, 64, 67, 0.15);\n",
              "      fill: #174EA6;\n",
              "    }\n",
              "\n",
              "    [theme=dark] .colab-df-convert {\n",
              "      background-color: #3B4455;\n",
              "      fill: #D2E3FC;\n",
              "    }\n",
              "\n",
              "    [theme=dark] .colab-df-convert:hover {\n",
              "      background-color: #434B5C;\n",
              "      box-shadow: 0px 1px 3px 1px rgba(0, 0, 0, 0.15);\n",
              "      filter: drop-shadow(0px 1px 2px rgba(0, 0, 0, 0.3));\n",
              "      fill: #FFFFFF;\n",
              "    }\n",
              "  </style>\n",
              "\n",
              "      <script>\n",
              "        const buttonEl =\n",
              "          document.querySelector('#df-bc7af705-434d-4d98-8727-bfb074819c5e button.colab-df-convert');\n",
              "        buttonEl.style.display =\n",
              "          google.colab.kernel.accessAllowed ? 'block' : 'none';\n",
              "\n",
              "        async function convertToInteractive(key) {\n",
              "          const element = document.querySelector('#df-bc7af705-434d-4d98-8727-bfb074819c5e');\n",
              "          const dataTable =\n",
              "            await google.colab.kernel.invokeFunction('convertToInteractive',\n",
              "                                                     [key], {});\n",
              "          if (!dataTable) return;\n",
              "\n",
              "          const docLinkHtml = 'Like what you see? Visit the ' +\n",
              "            '<a target=\"_blank\" href=https://colab.research.google.com/notebooks/data_table.ipynb>data table notebook</a>'\n",
              "            + ' to learn more about interactive tables.';\n",
              "          element.innerHTML = '';\n",
              "          dataTable['output_type'] = 'display_data';\n",
              "          await google.colab.output.renderOutput(dataTable, element);\n",
              "          const docLink = document.createElement('div');\n",
              "          docLink.innerHTML = docLinkHtml;\n",
              "          element.appendChild(docLink);\n",
              "        }\n",
              "      </script>\n",
              "    </div>\n",
              "  </div>\n"
            ]
          },
          "metadata": {},
          "execution_count": 123
        }
      ],
      "source": [
        "merged_data.iloc[:0,:]"
      ]
    },
    {
      "cell_type": "code",
      "execution_count": null,
      "metadata": {
        "colab": {
          "base_uri": "https://localhost:8080/",
          "height": 299
        },
        "id": "SPxaj-q5sS4k",
        "outputId": "3db55d9c-efe2-41c9-aeb4-b638991c7b50"
      },
      "outputs": [
        {
          "output_type": "execute_result",
          "data": {
            "text/plain": [
              "     x_nose     y_nose      z_nose  x_left_eye_inner  y_left_eye_inner  \\\n",
              "0 -5.889507 -57.637520  -45.019750         -4.656085        -62.832863   \n",
              "1 -4.255504 -62.935925 -128.907500         -2.977403        -67.035990   \n",
              "2 -2.878917 -61.709988 -137.453340         -1.619050        -65.693750   \n",
              "3 -4.242575 -60.371220 -135.094830         -3.118133        -64.416000   \n",
              "4 -0.805543 -56.178570  -41.124413         -0.055174        -58.501305   \n",
              "\n",
              "   z_left_eye_inner  x_left_eye  y_left_eye  z_left_eye  x_left_eye_outer  \\\n",
              "0        -44.571823   -3.302626  -63.386856  -44.567863         -2.032406   \n",
              "1       -124.258545   -2.215265  -67.198250 -124.263240         -1.494903   \n",
              "2       -132.181660   -0.785822  -65.814340 -132.184070         -0.019743   \n",
              "3       -129.995930   -2.369744  -64.603290 -130.003400         -1.753780   \n",
              "4        -37.938560    0.456936  -58.473960  -37.954430          0.969290   \n",
              "\n",
              "   ...  left_ankle_right_ankle  left_hip_avg_left_wrist_left_ankle  \\\n",
              "0  ...                8.817467                           24.935423   \n",
              "1  ...               10.478581                           70.999214   \n",
              "2  ...                9.337358                           75.719420   \n",
              "3  ...                9.881827                           60.924847   \n",
              "4  ...                5.223047                           23.287280   \n",
              "\n",
              "   right_hip_avg_right_wrist_right_ankle  \\\n",
              "0                              21.897507   \n",
              "1                              66.304980   \n",
              "2                              73.916530   \n",
              "3                              59.798840   \n",
              "4                              19.660568   \n",
              "\n",
              "   right_elbow_right_shoulder_right_hip  left_elbow_left_shoulder_left_hip  \\\n",
              "0                             14.021934                           8.209491   \n",
              "1                             67.077340                          75.857120   \n",
              "2                             74.106384                          75.378140   \n",
              "3                             60.998230                          68.259796   \n",
              "4                             28.631880                          20.923730   \n",
              "\n",
              "   right_hip_right_knee_right_ankle  left_hip_left_knee_left_ankle  \\\n",
              "0                        129.223340                     116.203650   \n",
              "1                         33.741722                      33.625260   \n",
              "2                         29.761814                      29.707142   \n",
              "3                         51.646942                      49.793900   \n",
              "4                        133.069700                     134.827160   \n",
              "\n",
              "   right_wrist_right_elbow_right_shoulder  \\\n",
              "0                              138.059770   \n",
              "1                              149.027540   \n",
              "2                              150.370900   \n",
              "3                              139.172230   \n",
              "4                              122.640205   \n",
              "\n",
              "   left_wrist_left_elbow_left_shoulder                pose  \n",
              "0                            141.57338  jumping_jacks_down  \n",
              "1                            155.01839  jumping_jacks_down  \n",
              "2                            150.90870  jumping_jacks_down  \n",
              "3                            146.24620  jumping_jacks_down  \n",
              "4                            105.69104  jumping_jacks_down  \n",
              "\n",
              "[5 rows x 170 columns]"
            ],
            "text/html": [
              "\n",
              "\n",
              "  <div id=\"df-3cb620c9-3e4a-49e5-b555-5ca872ac6c75\">\n",
              "    <div class=\"colab-df-container\">\n",
              "      <div>\n",
              "<style scoped>\n",
              "    .dataframe tbody tr th:only-of-type {\n",
              "        vertical-align: middle;\n",
              "    }\n",
              "\n",
              "    .dataframe tbody tr th {\n",
              "        vertical-align: top;\n",
              "    }\n",
              "\n",
              "    .dataframe thead th {\n",
              "        text-align: right;\n",
              "    }\n",
              "</style>\n",
              "<table border=\"1\" class=\"dataframe\">\n",
              "  <thead>\n",
              "    <tr style=\"text-align: right;\">\n",
              "      <th></th>\n",
              "      <th>x_nose</th>\n",
              "      <th>y_nose</th>\n",
              "      <th>z_nose</th>\n",
              "      <th>x_left_eye_inner</th>\n",
              "      <th>y_left_eye_inner</th>\n",
              "      <th>z_left_eye_inner</th>\n",
              "      <th>x_left_eye</th>\n",
              "      <th>y_left_eye</th>\n",
              "      <th>z_left_eye</th>\n",
              "      <th>x_left_eye_outer</th>\n",
              "      <th>...</th>\n",
              "      <th>left_ankle_right_ankle</th>\n",
              "      <th>left_hip_avg_left_wrist_left_ankle</th>\n",
              "      <th>right_hip_avg_right_wrist_right_ankle</th>\n",
              "      <th>right_elbow_right_shoulder_right_hip</th>\n",
              "      <th>left_elbow_left_shoulder_left_hip</th>\n",
              "      <th>right_hip_right_knee_right_ankle</th>\n",
              "      <th>left_hip_left_knee_left_ankle</th>\n",
              "      <th>right_wrist_right_elbow_right_shoulder</th>\n",
              "      <th>left_wrist_left_elbow_left_shoulder</th>\n",
              "      <th>pose</th>\n",
              "    </tr>\n",
              "  </thead>\n",
              "  <tbody>\n",
              "    <tr>\n",
              "      <th>0</th>\n",
              "      <td>-5.889507</td>\n",
              "      <td>-57.637520</td>\n",
              "      <td>-45.019750</td>\n",
              "      <td>-4.656085</td>\n",
              "      <td>-62.832863</td>\n",
              "      <td>-44.571823</td>\n",
              "      <td>-3.302626</td>\n",
              "      <td>-63.386856</td>\n",
              "      <td>-44.567863</td>\n",
              "      <td>-2.032406</td>\n",
              "      <td>...</td>\n",
              "      <td>8.817467</td>\n",
              "      <td>24.935423</td>\n",
              "      <td>21.897507</td>\n",
              "      <td>14.021934</td>\n",
              "      <td>8.209491</td>\n",
              "      <td>129.223340</td>\n",
              "      <td>116.203650</td>\n",
              "      <td>138.059770</td>\n",
              "      <td>141.57338</td>\n",
              "      <td>jumping_jacks_down</td>\n",
              "    </tr>\n",
              "    <tr>\n",
              "      <th>1</th>\n",
              "      <td>-4.255504</td>\n",
              "      <td>-62.935925</td>\n",
              "      <td>-128.907500</td>\n",
              "      <td>-2.977403</td>\n",
              "      <td>-67.035990</td>\n",
              "      <td>-124.258545</td>\n",
              "      <td>-2.215265</td>\n",
              "      <td>-67.198250</td>\n",
              "      <td>-124.263240</td>\n",
              "      <td>-1.494903</td>\n",
              "      <td>...</td>\n",
              "      <td>10.478581</td>\n",
              "      <td>70.999214</td>\n",
              "      <td>66.304980</td>\n",
              "      <td>67.077340</td>\n",
              "      <td>75.857120</td>\n",
              "      <td>33.741722</td>\n",
              "      <td>33.625260</td>\n",
              "      <td>149.027540</td>\n",
              "      <td>155.01839</td>\n",
              "      <td>jumping_jacks_down</td>\n",
              "    </tr>\n",
              "    <tr>\n",
              "      <th>2</th>\n",
              "      <td>-2.878917</td>\n",
              "      <td>-61.709988</td>\n",
              "      <td>-137.453340</td>\n",
              "      <td>-1.619050</td>\n",
              "      <td>-65.693750</td>\n",
              "      <td>-132.181660</td>\n",
              "      <td>-0.785822</td>\n",
              "      <td>-65.814340</td>\n",
              "      <td>-132.184070</td>\n",
              "      <td>-0.019743</td>\n",
              "      <td>...</td>\n",
              "      <td>9.337358</td>\n",
              "      <td>75.719420</td>\n",
              "      <td>73.916530</td>\n",
              "      <td>74.106384</td>\n",
              "      <td>75.378140</td>\n",
              "      <td>29.761814</td>\n",
              "      <td>29.707142</td>\n",
              "      <td>150.370900</td>\n",
              "      <td>150.90870</td>\n",
              "      <td>jumping_jacks_down</td>\n",
              "    </tr>\n",
              "    <tr>\n",
              "      <th>3</th>\n",
              "      <td>-4.242575</td>\n",
              "      <td>-60.371220</td>\n",
              "      <td>-135.094830</td>\n",
              "      <td>-3.118133</td>\n",
              "      <td>-64.416000</td>\n",
              "      <td>-129.995930</td>\n",
              "      <td>-2.369744</td>\n",
              "      <td>-64.603290</td>\n",
              "      <td>-130.003400</td>\n",
              "      <td>-1.753780</td>\n",
              "      <td>...</td>\n",
              "      <td>9.881827</td>\n",
              "      <td>60.924847</td>\n",
              "      <td>59.798840</td>\n",
              "      <td>60.998230</td>\n",
              "      <td>68.259796</td>\n",
              "      <td>51.646942</td>\n",
              "      <td>49.793900</td>\n",
              "      <td>139.172230</td>\n",
              "      <td>146.24620</td>\n",
              "      <td>jumping_jacks_down</td>\n",
              "    </tr>\n",
              "    <tr>\n",
              "      <th>4</th>\n",
              "      <td>-0.805543</td>\n",
              "      <td>-56.178570</td>\n",
              "      <td>-41.124413</td>\n",
              "      <td>-0.055174</td>\n",
              "      <td>-58.501305</td>\n",
              "      <td>-37.938560</td>\n",
              "      <td>0.456936</td>\n",
              "      <td>-58.473960</td>\n",
              "      <td>-37.954430</td>\n",
              "      <td>0.969290</td>\n",
              "      <td>...</td>\n",
              "      <td>5.223047</td>\n",
              "      <td>23.287280</td>\n",
              "      <td>19.660568</td>\n",
              "      <td>28.631880</td>\n",
              "      <td>20.923730</td>\n",
              "      <td>133.069700</td>\n",
              "      <td>134.827160</td>\n",
              "      <td>122.640205</td>\n",
              "      <td>105.69104</td>\n",
              "      <td>jumping_jacks_down</td>\n",
              "    </tr>\n",
              "  </tbody>\n",
              "</table>\n",
              "<p>5 rows × 170 columns</p>\n",
              "</div>\n",
              "      <button class=\"colab-df-convert\" onclick=\"convertToInteractive('df-3cb620c9-3e4a-49e5-b555-5ca872ac6c75')\"\n",
              "              title=\"Convert this dataframe to an interactive table.\"\n",
              "              style=\"display:none;\">\n",
              "\n",
              "  <svg xmlns=\"http://www.w3.org/2000/svg\" height=\"24px\"viewBox=\"0 0 24 24\"\n",
              "       width=\"24px\">\n",
              "    <path d=\"M0 0h24v24H0V0z\" fill=\"none\"/>\n",
              "    <path d=\"M18.56 5.44l.94 2.06.94-2.06 2.06-.94-2.06-.94-.94-2.06-.94 2.06-2.06.94zm-11 1L8.5 8.5l.94-2.06 2.06-.94-2.06-.94L8.5 2.5l-.94 2.06-2.06.94zm10 10l.94 2.06.94-2.06 2.06-.94-2.06-.94-.94-2.06-.94 2.06-2.06.94z\"/><path d=\"M17.41 7.96l-1.37-1.37c-.4-.4-.92-.59-1.43-.59-.52 0-1.04.2-1.43.59L10.3 9.45l-7.72 7.72c-.78.78-.78 2.05 0 2.83L4 21.41c.39.39.9.59 1.41.59.51 0 1.02-.2 1.41-.59l7.78-7.78 2.81-2.81c.8-.78.8-2.07 0-2.86zM5.41 20L4 18.59l7.72-7.72 1.47 1.35L5.41 20z\"/>\n",
              "  </svg>\n",
              "      </button>\n",
              "\n",
              "\n",
              "\n",
              "    <div id=\"df-aa11f7cb-c437-4681-b3d1-f784c4012064\">\n",
              "      <button class=\"colab-df-quickchart\" onclick=\"quickchart('df-aa11f7cb-c437-4681-b3d1-f784c4012064')\"\n",
              "              title=\"Suggest charts.\"\n",
              "              style=\"display:none;\">\n",
              "\n",
              "<svg xmlns=\"http://www.w3.org/2000/svg\" height=\"24px\"viewBox=\"0 0 24 24\"\n",
              "     width=\"24px\">\n",
              "    <g>\n",
              "        <path d=\"M19 3H5c-1.1 0-2 .9-2 2v14c0 1.1.9 2 2 2h14c1.1 0 2-.9 2-2V5c0-1.1-.9-2-2-2zM9 17H7v-7h2v7zm4 0h-2V7h2v10zm4 0h-2v-4h2v4z\"/>\n",
              "    </g>\n",
              "</svg>\n",
              "      </button>\n",
              "    </div>\n",
              "\n",
              "<style>\n",
              "  .colab-df-quickchart {\n",
              "    background-color: #E8F0FE;\n",
              "    border: none;\n",
              "    border-radius: 50%;\n",
              "    cursor: pointer;\n",
              "    display: none;\n",
              "    fill: #1967D2;\n",
              "    height: 32px;\n",
              "    padding: 0 0 0 0;\n",
              "    width: 32px;\n",
              "  }\n",
              "\n",
              "  .colab-df-quickchart:hover {\n",
              "    background-color: #E2EBFA;\n",
              "    box-shadow: 0px 1px 2px rgba(60, 64, 67, 0.3), 0px 1px 3px 1px rgba(60, 64, 67, 0.15);\n",
              "    fill: #174EA6;\n",
              "  }\n",
              "\n",
              "  [theme=dark] .colab-df-quickchart {\n",
              "    background-color: #3B4455;\n",
              "    fill: #D2E3FC;\n",
              "  }\n",
              "\n",
              "  [theme=dark] .colab-df-quickchart:hover {\n",
              "    background-color: #434B5C;\n",
              "    box-shadow: 0px 1px 3px 1px rgba(0, 0, 0, 0.15);\n",
              "    filter: drop-shadow(0px 1px 2px rgba(0, 0, 0, 0.3));\n",
              "    fill: #FFFFFF;\n",
              "  }\n",
              "</style>\n",
              "\n",
              "    <script>\n",
              "      async function quickchart(key) {\n",
              "        const containerElement = document.querySelector('#' + key);\n",
              "        const charts = await google.colab.kernel.invokeFunction(\n",
              "            'suggestCharts', [key], {});\n",
              "      }\n",
              "    </script>\n",
              "\n",
              "      <script>\n",
              "\n",
              "function displayQuickchartButton(domScope) {\n",
              "  let quickchartButtonEl =\n",
              "    domScope.querySelector('#df-aa11f7cb-c437-4681-b3d1-f784c4012064 button.colab-df-quickchart');\n",
              "  quickchartButtonEl.style.display =\n",
              "    google.colab.kernel.accessAllowed ? 'block' : 'none';\n",
              "}\n",
              "\n",
              "        displayQuickchartButton(document);\n",
              "      </script>\n",
              "      <style>\n",
              "    .colab-df-container {\n",
              "      display:flex;\n",
              "      flex-wrap:wrap;\n",
              "      gap: 12px;\n",
              "    }\n",
              "\n",
              "    .colab-df-convert {\n",
              "      background-color: #E8F0FE;\n",
              "      border: none;\n",
              "      border-radius: 50%;\n",
              "      cursor: pointer;\n",
              "      display: none;\n",
              "      fill: #1967D2;\n",
              "      height: 32px;\n",
              "      padding: 0 0 0 0;\n",
              "      width: 32px;\n",
              "    }\n",
              "\n",
              "    .colab-df-convert:hover {\n",
              "      background-color: #E2EBFA;\n",
              "      box-shadow: 0px 1px 2px rgba(60, 64, 67, 0.3), 0px 1px 3px 1px rgba(60, 64, 67, 0.15);\n",
              "      fill: #174EA6;\n",
              "    }\n",
              "\n",
              "    [theme=dark] .colab-df-convert {\n",
              "      background-color: #3B4455;\n",
              "      fill: #D2E3FC;\n",
              "    }\n",
              "\n",
              "    [theme=dark] .colab-df-convert:hover {\n",
              "      background-color: #434B5C;\n",
              "      box-shadow: 0px 1px 3px 1px rgba(0, 0, 0, 0.15);\n",
              "      filter: drop-shadow(0px 1px 2px rgba(0, 0, 0, 0.3));\n",
              "      fill: #FFFFFF;\n",
              "    }\n",
              "  </style>\n",
              "\n",
              "      <script>\n",
              "        const buttonEl =\n",
              "          document.querySelector('#df-3cb620c9-3e4a-49e5-b555-5ca872ac6c75 button.colab-df-convert');\n",
              "        buttonEl.style.display =\n",
              "          google.colab.kernel.accessAllowed ? 'block' : 'none';\n",
              "\n",
              "        async function convertToInteractive(key) {\n",
              "          const element = document.querySelector('#df-3cb620c9-3e4a-49e5-b555-5ca872ac6c75');\n",
              "          const dataTable =\n",
              "            await google.colab.kernel.invokeFunction('convertToInteractive',\n",
              "                                                     [key], {});\n",
              "          if (!dataTable) return;\n",
              "\n",
              "          const docLinkHtml = 'Like what you see? Visit the ' +\n",
              "            '<a target=\"_blank\" href=https://colab.research.google.com/notebooks/data_table.ipynb>data table notebook</a>'\n",
              "            + ' to learn more about interactive tables.';\n",
              "          element.innerHTML = '';\n",
              "          dataTable['output_type'] = 'display_data';\n",
              "          await google.colab.output.renderOutput(dataTable, element);\n",
              "          const docLink = document.createElement('div');\n",
              "          docLink.innerHTML = docLinkHtml;\n",
              "          element.appendChild(docLink);\n",
              "        }\n",
              "      </script>\n",
              "    </div>\n",
              "  </div>\n"
            ]
          },
          "metadata": {},
          "execution_count": 124
        }
      ],
      "source": [
        "merged_data.head()"
      ]
    },
    {
      "cell_type": "code",
      "execution_count": null,
      "metadata": {
        "id": "fO0iHBg2sux1"
      },
      "outputs": [],
      "source": [
        "# temp_col = merged_data['z_right_hip_avg_right_wrist_right_ankle'].copy()\n",
        "# merged_data['z_right_hip_avg_right_wrist_right_ankle'] = merged_data['pose']\n",
        "# merged_data['pose'] = temp_col"
      ]
    },
    {
      "cell_type": "code",
      "execution_count": null,
      "metadata": {
        "colab": {
          "base_uri": "https://localhost:8080/"
        },
        "id": "67CKg8KIuGSa",
        "outputId": "228accf2-2e8e-44cd-d40a-739c3b3fdd76"
      },
      "outputs": [
        {
          "output_type": "execute_result",
          "data": {
            "text/plain": [
              "0       jumping_jacks_down\n",
              "1       jumping_jacks_down\n",
              "2       jumping_jacks_down\n",
              "3       jumping_jacks_down\n",
              "4       jumping_jacks_down\n",
              "               ...        \n",
              "1367             squats_up\n",
              "1368             squats_up\n",
              "1369             squats_up\n",
              "1370             squats_up\n",
              "1371             squats_up\n",
              "Name: pose, Length: 1372, dtype: object"
            ]
          },
          "metadata": {},
          "execution_count": 126
        }
      ],
      "source": [
        "merged_data.iloc[:,-1]"
      ]
    },
    {
      "cell_type": "code",
      "execution_count": null,
      "metadata": {
        "id": "aoR8yhl2uLJt"
      },
      "outputs": [],
      "source": [
        "# merged_data.rename(columns={'z_right_hip_avg_right_wrist_right_ankle':'pose_i'},inplace=True)\n",
        "# merged_data.rename(columns={'pose':'z_right_hip_avg_right_wrist_right_ankle'},inplace=True)\n"
      ]
    },
    {
      "cell_type": "code",
      "execution_count": null,
      "metadata": {
        "id": "ggV82i-hus1E"
      },
      "outputs": [],
      "source": [
        "# merged_data.iloc[:,-1]"
      ]
    },
    {
      "cell_type": "code",
      "execution_count": null,
      "metadata": {
        "id": "tsW5mZoovKCw"
      },
      "outputs": [],
      "source": [
        "# merged_data.rename(columns={'pose_i':'pose'},inplace=True)\n"
      ]
    },
    {
      "cell_type": "code",
      "execution_count": null,
      "metadata": {
        "id": "MpjxsuSJvUVm"
      },
      "outputs": [],
      "source": [
        "merged_data.to_csv('/content/merged_dataa.csv')"
      ]
    },
    {
      "cell_type": "code",
      "execution_count": null,
      "metadata": {
        "colab": {
          "base_uri": "https://localhost:8080/"
        },
        "id": "76rOZRgpvYxL",
        "outputId": "95cf66cb-b152-4103-9fa6-5d2ba90bdfa2"
      },
      "outputs": [
        {
          "output_type": "execute_result",
          "data": {
            "text/plain": [
              "array(['jumping_jacks_down', 'jumping_jacks_up', 'pullups_down',\n",
              "       'pullups_up', 'pushups_down', 'pushups_up', 'situp_down',\n",
              "       'situp_up', 'squats_down', 'squats_up'], dtype=object)"
            ]
          },
          "metadata": {},
          "execution_count": 131
        }
      ],
      "source": [
        "merged_data['pose'].unique()"
      ]
    },
    {
      "cell_type": "code",
      "execution_count": null,
      "metadata": {
        "id": "ljXn3GUbvzdw"
      },
      "outputs": [],
      "source": [
        "copy = merged_data"
      ]
    },
    {
      "cell_type": "code",
      "source": [
        "merged_data['pose'].value_counts()"
      ],
      "metadata": {
        "colab": {
          "base_uri": "https://localhost:8080/"
        },
        "id": "9ys4vexg5l6D",
        "outputId": "aa330bc3-f15a-47c6-9e23-691d407dd35d"
      },
      "execution_count": null,
      "outputs": [
        {
          "output_type": "execute_result",
          "data": {
            "text/plain": [
              "jumping_jacks_down    189\n",
              "jumping_jacks_up      181\n",
              "pullups_down          154\n",
              "pushups_up            144\n",
              "squats_up             139\n",
              "pullups_up            135\n",
              "squats_down           127\n",
              "pushups_down          102\n",
              "situp_down            102\n",
              "situp_up               99\n",
              "Name: pose, dtype: int64"
            ]
          },
          "metadata": {},
          "execution_count": 133
        }
      ]
    },
    {
      "cell_type": "code",
      "execution_count": null,
      "metadata": {
        "id": "MX_Z3g6WwgUe"
      },
      "outputs": [],
      "source": [
        "from sklearn.model_selection import train_test_split\n",
        "x= merged_data.drop(['pose'], axis='columns')\n",
        "# x = merged_data.drop(['pose','pose_id'],axis='columns')\n",
        "y = merged_data['pose']"
      ]
    },
    {
      "cell_type": "code",
      "source": [
        "from sklearn.preprocessing import LabelEncoder, MinMaxScaler\n",
        "from sklearn.utils.class_weight import compute_class_weight\n",
        "from sklearn.model_selection import cross_val_score, GridSearchCV, train_test_split\n",
        "from sklearn.linear_model import LogisticRegression, SGDClassifier\n",
        "from sklearn.ensemble import RandomForestClassifier, GradientBoostingClassifier\n",
        "from sklearn.naive_bayes import MultinomialNB, GaussianNB, BernoulliNB\n",
        "from sklearn.neighbors import KNeighborsClassifier\n",
        "from sklearn.svm import SVC\n",
        "from sklearn.neural_network import MLPClassifier"
      ],
      "metadata": {
        "id": "sG_JX9AUAGaB"
      },
      "execution_count": null,
      "outputs": []
    },
    {
      "cell_type": "code",
      "source": [
        "encoder = LabelEncoder()\n",
        "y = merged_data['pose']\n",
        "y = encoder.fit_transform(y)"
      ],
      "metadata": {
        "id": "UJKrpvYyAW4C"
      },
      "execution_count": null,
      "outputs": []
    },
    {
      "cell_type": "code",
      "source": [
        "class_weights = compute_class_weight(class_weight='balanced', classes=np.unique(y), y=y)\n",
        "class_weights_dict = {}\n",
        "for idx, k in enumerate(class_weights):\n",
        "    class_weights_dict[idx] = k"
      ],
      "metadata": {
        "id": "pKGb43F7AAxJ"
      },
      "execution_count": null,
      "outputs": []
    },
    {
      "cell_type": "code",
      "source": [
        "class_weights_dict"
      ],
      "metadata": {
        "colab": {
          "base_uri": "https://localhost:8080/"
        },
        "id": "JiIqL5BoAJRJ",
        "outputId": "dc30b1a8-6655-42a2-b75c-50ce580a8f16"
      },
      "execution_count": null,
      "outputs": [
        {
          "output_type": "execute_result",
          "data": {
            "text/plain": [
              "{0: 0.725925925925926,\n",
              " 1: 0.7580110497237569,\n",
              " 2: 0.8909090909090909,\n",
              " 3: 1.0162962962962963,\n",
              " 4: 1.3450980392156864,\n",
              " 5: 0.9527777777777777,\n",
              " 6: 1.3450980392156864,\n",
              " 7: 1.385858585858586,\n",
              " 8: 1.0803149606299212,\n",
              " 9: 0.9870503597122302}"
            ]
          },
          "metadata": {},
          "execution_count": 138
        }
      ]
    },
    {
      "cell_type": "code",
      "source": [
        "y"
      ],
      "metadata": {
        "colab": {
          "base_uri": "https://localhost:8080/"
        },
        "id": "2EuRexBwAelf",
        "outputId": "41fccb1c-4777-4301-ebc2-43edf23fc4b7"
      },
      "execution_count": null,
      "outputs": [
        {
          "output_type": "execute_result",
          "data": {
            "text/plain": [
              "array([0, 0, 0, ..., 9, 9, 9])"
            ]
          },
          "metadata": {},
          "execution_count": 139
        }
      ]
    },
    {
      "cell_type": "code",
      "source": [
        "from sklearn.preprocessing import MinMaxScaler\n",
        "scaler = MinMaxScaler()\n",
        "# x = x.drop(['pose_id'],axis=1)\n",
        "x = scaler.fit_transform(x)\n",
        "x"
      ],
      "metadata": {
        "colab": {
          "base_uri": "https://localhost:8080/"
        },
        "id": "OYAUi8p7eife",
        "outputId": "5e7c1768-0a7d-454b-8d35-e83b6adf970c"
      },
      "execution_count": null,
      "outputs": [
        {
          "output_type": "execute_result",
          "data": {
            "text/plain": [
              "array([[0.45927021, 0.07086989, 0.58230487, ..., 0.61825183, 0.77380677,\n",
              "        0.75984575],\n",
              "       [0.4717603 , 0.03599226, 0.46042203, ..., 0.12289535, 0.83780464,\n",
              "        0.84864541],\n",
              "       [0.48228273, 0.04406219, 0.44800554, ..., 0.09939204, 0.84564326,\n",
              "        0.82150232],\n",
              "       ...,\n",
              "       [0.46418346, 0.11346048, 0.70909066, ..., 0.87221893, 0.76615948,\n",
              "        0.6115857 ],\n",
              "       [0.43201942, 0.11854186, 0.71773288, ..., 0.97123439, 0.85507982,\n",
              "        0.85096232],\n",
              "       [0.44587077, 0.10950291, 0.71433691, ..., 0.99005956, 0.77879057,\n",
              "        0.71300375]])"
            ]
          },
          "metadata": {},
          "execution_count": 140
        }
      ]
    },
    {
      "cell_type": "code",
      "source": [
        "pip install scikit-learn\n"
      ],
      "metadata": {
        "colab": {
          "base_uri": "https://localhost:8080/"
        },
        "id": "6lWH4hW7SGNx",
        "outputId": "665006a9-2fd7-4e20-ffd2-4e061b214c7d"
      },
      "execution_count": null,
      "outputs": [
        {
          "output_type": "stream",
          "name": "stdout",
          "text": [
            "Requirement already satisfied: scikit-learn in /usr/local/lib/python3.10/dist-packages (1.2.2)\n",
            "Requirement already satisfied: numpy>=1.17.3 in /usr/local/lib/python3.10/dist-packages (from scikit-learn) (1.22.4)\n",
            "Requirement already satisfied: scipy>=1.3.2 in /usr/local/lib/python3.10/dist-packages (from scikit-learn) (1.10.1)\n",
            "Requirement already satisfied: joblib>=1.1.1 in /usr/local/lib/python3.10/dist-packages (from scikit-learn) (1.3.1)\n",
            "Requirement already satisfied: threadpoolctl>=2.0.0 in /usr/local/lib/python3.10/dist-packages (from scikit-learn) (3.2.0)\n"
          ]
        }
      ]
    },
    {
      "cell_type": "code",
      "source": [
        "import sklearn.preprocessing\n"
      ],
      "metadata": {
        "id": "0A9JcC4xSd4Z"
      },
      "execution_count": null,
      "outputs": []
    },
    {
      "cell_type": "code",
      "source": [
        "from sklearn.preprocessing import normalize\n",
        "# sklearn.preprocessing.normalize(x, norm='l2', *, axis=1, copy=True, return_norm=False)\n"
      ],
      "metadata": {
        "id": "_7Jo2eKuRhuI"
      },
      "execution_count": null,
      "outputs": []
    },
    {
      "cell_type": "code",
      "execution_count": null,
      "metadata": {
        "id": "tuq2FFMY0Cwr"
      },
      "outputs": [],
      "source": [
        "X_train,X_test,Y_train,Y_test = train_test_split(x,y,test_size=0.2,random_state=42)"
      ]
    },
    {
      "cell_type": "code",
      "source": [
        "# x_norm=sklearn.preprocessing.normalize(X_train, norm='l2', axis=0, copy=True, return_norm=False)\n",
        "# x_test_norm=sklearn.preprocessing.normalize(X_test, norm='l2', axis=0, copy=True, return_norm=False)\n"
      ],
      "metadata": {
        "id": "DbZ7sZVyZxsq"
      },
      "execution_count": null,
      "outputs": []
    },
    {
      "cell_type": "code",
      "execution_count": null,
      "metadata": {
        "colab": {
          "base_uri": "https://localhost:8080/",
          "height": 74
        },
        "id": "vejORQ5J0ZRO",
        "outputId": "e48d3b86-512d-4fa4-ead0-3bfa6e28dfcb"
      },
      "outputs": [
        {
          "output_type": "execute_result",
          "data": {
            "text/plain": [
              "RandomForestClassifier(random_state=42)"
            ],
            "text/html": [
              "<style>#sk-container-id-7 {color: black;background-color: white;}#sk-container-id-7 pre{padding: 0;}#sk-container-id-7 div.sk-toggleable {background-color: white;}#sk-container-id-7 label.sk-toggleable__label {cursor: pointer;display: block;width: 100%;margin-bottom: 0;padding: 0.3em;box-sizing: border-box;text-align: center;}#sk-container-id-7 label.sk-toggleable__label-arrow:before {content: \"▸\";float: left;margin-right: 0.25em;color: #696969;}#sk-container-id-7 label.sk-toggleable__label-arrow:hover:before {color: black;}#sk-container-id-7 div.sk-estimator:hover label.sk-toggleable__label-arrow:before {color: black;}#sk-container-id-7 div.sk-toggleable__content {max-height: 0;max-width: 0;overflow: hidden;text-align: left;background-color: #f0f8ff;}#sk-container-id-7 div.sk-toggleable__content pre {margin: 0.2em;color: black;border-radius: 0.25em;background-color: #f0f8ff;}#sk-container-id-7 input.sk-toggleable__control:checked~div.sk-toggleable__content {max-height: 200px;max-width: 100%;overflow: auto;}#sk-container-id-7 input.sk-toggleable__control:checked~label.sk-toggleable__label-arrow:before {content: \"▾\";}#sk-container-id-7 div.sk-estimator input.sk-toggleable__control:checked~label.sk-toggleable__label {background-color: #d4ebff;}#sk-container-id-7 div.sk-label input.sk-toggleable__control:checked~label.sk-toggleable__label {background-color: #d4ebff;}#sk-container-id-7 input.sk-hidden--visually {border: 0;clip: rect(1px 1px 1px 1px);clip: rect(1px, 1px, 1px, 1px);height: 1px;margin: -1px;overflow: hidden;padding: 0;position: absolute;width: 1px;}#sk-container-id-7 div.sk-estimator {font-family: monospace;background-color: #f0f8ff;border: 1px dotted black;border-radius: 0.25em;box-sizing: border-box;margin-bottom: 0.5em;}#sk-container-id-7 div.sk-estimator:hover {background-color: #d4ebff;}#sk-container-id-7 div.sk-parallel-item::after {content: \"\";width: 100%;border-bottom: 1px solid gray;flex-grow: 1;}#sk-container-id-7 div.sk-label:hover label.sk-toggleable__label {background-color: #d4ebff;}#sk-container-id-7 div.sk-serial::before {content: \"\";position: absolute;border-left: 1px solid gray;box-sizing: border-box;top: 0;bottom: 0;left: 50%;z-index: 0;}#sk-container-id-7 div.sk-serial {display: flex;flex-direction: column;align-items: center;background-color: white;padding-right: 0.2em;padding-left: 0.2em;position: relative;}#sk-container-id-7 div.sk-item {position: relative;z-index: 1;}#sk-container-id-7 div.sk-parallel {display: flex;align-items: stretch;justify-content: center;background-color: white;position: relative;}#sk-container-id-7 div.sk-item::before, #sk-container-id-7 div.sk-parallel-item::before {content: \"\";position: absolute;border-left: 1px solid gray;box-sizing: border-box;top: 0;bottom: 0;left: 50%;z-index: -1;}#sk-container-id-7 div.sk-parallel-item {display: flex;flex-direction: column;z-index: 1;position: relative;background-color: white;}#sk-container-id-7 div.sk-parallel-item:first-child::after {align-self: flex-end;width: 50%;}#sk-container-id-7 div.sk-parallel-item:last-child::after {align-self: flex-start;width: 50%;}#sk-container-id-7 div.sk-parallel-item:only-child::after {width: 0;}#sk-container-id-7 div.sk-dashed-wrapped {border: 1px dashed gray;margin: 0 0.4em 0.5em 0.4em;box-sizing: border-box;padding-bottom: 0.4em;background-color: white;}#sk-container-id-7 div.sk-label label {font-family: monospace;font-weight: bold;display: inline-block;line-height: 1.2em;}#sk-container-id-7 div.sk-label-container {text-align: center;}#sk-container-id-7 div.sk-container {/* jupyter's `normalize.less` sets `[hidden] { display: none; }` but bootstrap.min.css set `[hidden] { display: none !important; }` so we also need the `!important` here to be able to override the default hidden behavior on the sphinx rendered scikit-learn.org. See: https://github.com/scikit-learn/scikit-learn/issues/21755 */display: inline-block !important;position: relative;}#sk-container-id-7 div.sk-text-repr-fallback {display: none;}</style><div id=\"sk-container-id-7\" class=\"sk-top-container\"><div class=\"sk-text-repr-fallback\"><pre>RandomForestClassifier(random_state=42)</pre><b>In a Jupyter environment, please rerun this cell to show the HTML representation or trust the notebook. <br />On GitHub, the HTML representation is unable to render, please try loading this page with nbviewer.org.</b></div><div class=\"sk-container\" hidden><div class=\"sk-item\"><div class=\"sk-estimator sk-toggleable\"><input class=\"sk-toggleable__control sk-hidden--visually\" id=\"sk-estimator-id-7\" type=\"checkbox\" checked><label for=\"sk-estimator-id-7\" class=\"sk-toggleable__label sk-toggleable__label-arrow\">RandomForestClassifier</label><div class=\"sk-toggleable__content\"><pre>RandomForestClassifier(random_state=42)</pre></div></div></div></div></div>"
            ]
          },
          "metadata": {},
          "execution_count": 146
        }
      ],
      "source": [
        "from pandas.core.common import random_state\n",
        "from sklearn.ensemble import RandomForestClassifier\n",
        "\n",
        "classifier = RandomForestClassifier(random_state=42)\n",
        "\n",
        "classifier.fit(X_train,Y_train)"
      ]
    },
    {
      "cell_type": "code",
      "source": [
        "# x_norm"
      ],
      "metadata": {
        "id": "WR897c_ZaIVX"
      },
      "execution_count": null,
      "outputs": []
    },
    {
      "cell_type": "code",
      "execution_count": null,
      "metadata": {
        "id": "A1lMVDwP1g96"
      },
      "outputs": [],
      "source": [
        "from sklearn.metrics import accuracy_score"
      ]
    },
    {
      "cell_type": "code",
      "execution_count": null,
      "metadata": {
        "id": "gR4lYsJO1vJs"
      },
      "outputs": [],
      "source": [
        "y_pred = classifier.predict(X_test)\n",
        "accuracy_rf = accuracy_score(Y_test,y_pred)"
      ]
    },
    {
      "cell_type": "code",
      "execution_count": null,
      "metadata": {
        "colab": {
          "base_uri": "https://localhost:8080/"
        },
        "id": "V8qcH8RC2BdI",
        "outputId": "07fb354e-1ec1-49f8-d766-58678d23fac6"
      },
      "outputs": [
        {
          "output_type": "stream",
          "name": "stdout",
          "text": [
            "0.8363636363636363\n"
          ]
        }
      ],
      "source": [
        "print(accuracy_rf)"
      ]
    },
    {
      "cell_type": "code",
      "execution_count": null,
      "metadata": {
        "id": "y-_bAbup2DVl"
      },
      "outputs": [],
      "source": [
        "from sklearn.metrics import classification_report"
      ]
    },
    {
      "cell_type": "code",
      "execution_count": null,
      "metadata": {
        "colab": {
          "base_uri": "https://localhost:8080/"
        },
        "id": "9V_OyWOa2RWg",
        "outputId": "d2a16475-d3e0-4073-a573-bfa77bf987f8"
      },
      "outputs": [
        {
          "output_type": "stream",
          "name": "stdout",
          "text": [
            "              precision    recall  f1-score   support\n",
            "\n",
            "           0       0.84      0.87      0.86        31\n",
            "           1       0.95      0.92      0.94        39\n",
            "           2       0.86      0.80      0.83        30\n",
            "           3       0.81      0.79      0.80        33\n",
            "           4       0.93      0.93      0.93        15\n",
            "           5       0.93      0.97      0.95        29\n",
            "           6       0.72      0.78      0.75        23\n",
            "           7       0.62      0.65      0.63        20\n",
            "           8       0.89      0.92      0.91        26\n",
            "           9       0.74      0.69      0.71        29\n",
            "\n",
            "    accuracy                           0.84       275\n",
            "   macro avg       0.83      0.83      0.83       275\n",
            "weighted avg       0.84      0.84      0.84       275\n",
            "\n"
          ]
        }
      ],
      "source": [
        "print(classification_report(Y_test,y_pred))"
      ]
    },
    {
      "cell_type": "code",
      "execution_count": null,
      "metadata": {
        "id": "eT5SHDIr2ZSU"
      },
      "outputs": [],
      "source": [
        "target=merged_data['pose']\n"
      ]
    },
    {
      "cell_type": "code",
      "execution_count": null,
      "metadata": {
        "colab": {
          "base_uri": "https://localhost:8080/"
        },
        "id": "e9LR3bmQ4R2D",
        "outputId": "6b25867a-57a4-4f99-ecca-cdb2ad2c4ee0"
      },
      "outputs": [
        {
          "output_type": "stream",
          "name": "stdout",
          "text": [
            "jumping_jacks_down    189\n",
            "jumping_jacks_up      181\n",
            "pullups_down          154\n",
            "pushups_up            144\n",
            "squats_up             139\n",
            "pullups_up            135\n",
            "squats_down           127\n",
            "pushups_down          102\n",
            "situp_down            102\n",
            "situp_up               99\n",
            "Name: pose, dtype: int64\n"
          ]
        }
      ],
      "source": [
        "count=target.value_counts()\n",
        "print(count)"
      ]
    },
    {
      "cell_type": "code",
      "execution_count": null,
      "metadata": {
        "colab": {
          "base_uri": "https://localhost:8080/"
        },
        "id": "Kl8c-HoH5LdB",
        "outputId": "7d8b7993-7d68-462f-8fd5-6f52cc0bdabe"
      },
      "outputs": [
        {
          "output_type": "execute_result",
          "data": {
            "text/plain": [
              "(1097, 169)"
            ]
          },
          "metadata": {},
          "execution_count": 155
        }
      ],
      "source": [
        "X_train.shape"
      ]
    },
    {
      "cell_type": "code",
      "execution_count": null,
      "metadata": {
        "colab": {
          "base_uri": "https://localhost:8080/"
        },
        "id": "V4qQWvks5WFx",
        "outputId": "6a630da8-9d5c-495e-e4e6-c9f082fc2b6d"
      },
      "outputs": [
        {
          "output_type": "execute_result",
          "data": {
            "text/plain": [
              "(275, 169)"
            ]
          },
          "metadata": {},
          "execution_count": 156
        }
      ],
      "source": [
        "X_test.shape"
      ]
    },
    {
      "cell_type": "code",
      "execution_count": null,
      "metadata": {
        "colab": {
          "base_uri": "https://localhost:8080/",
          "height": 74
        },
        "id": "VuO9eJa45ZQO",
        "outputId": "4169ff5f-45b5-4557-8efc-c0858dd3601d"
      },
      "outputs": [
        {
          "output_type": "execute_result",
          "data": {
            "text/plain": [
              "SVC()"
            ],
            "text/html": [
              "<style>#sk-container-id-8 {color: black;background-color: white;}#sk-container-id-8 pre{padding: 0;}#sk-container-id-8 div.sk-toggleable {background-color: white;}#sk-container-id-8 label.sk-toggleable__label {cursor: pointer;display: block;width: 100%;margin-bottom: 0;padding: 0.3em;box-sizing: border-box;text-align: center;}#sk-container-id-8 label.sk-toggleable__label-arrow:before {content: \"▸\";float: left;margin-right: 0.25em;color: #696969;}#sk-container-id-8 label.sk-toggleable__label-arrow:hover:before {color: black;}#sk-container-id-8 div.sk-estimator:hover label.sk-toggleable__label-arrow:before {color: black;}#sk-container-id-8 div.sk-toggleable__content {max-height: 0;max-width: 0;overflow: hidden;text-align: left;background-color: #f0f8ff;}#sk-container-id-8 div.sk-toggleable__content pre {margin: 0.2em;color: black;border-radius: 0.25em;background-color: #f0f8ff;}#sk-container-id-8 input.sk-toggleable__control:checked~div.sk-toggleable__content {max-height: 200px;max-width: 100%;overflow: auto;}#sk-container-id-8 input.sk-toggleable__control:checked~label.sk-toggleable__label-arrow:before {content: \"▾\";}#sk-container-id-8 div.sk-estimator input.sk-toggleable__control:checked~label.sk-toggleable__label {background-color: #d4ebff;}#sk-container-id-8 div.sk-label input.sk-toggleable__control:checked~label.sk-toggleable__label {background-color: #d4ebff;}#sk-container-id-8 input.sk-hidden--visually {border: 0;clip: rect(1px 1px 1px 1px);clip: rect(1px, 1px, 1px, 1px);height: 1px;margin: -1px;overflow: hidden;padding: 0;position: absolute;width: 1px;}#sk-container-id-8 div.sk-estimator {font-family: monospace;background-color: #f0f8ff;border: 1px dotted black;border-radius: 0.25em;box-sizing: border-box;margin-bottom: 0.5em;}#sk-container-id-8 div.sk-estimator:hover {background-color: #d4ebff;}#sk-container-id-8 div.sk-parallel-item::after {content: \"\";width: 100%;border-bottom: 1px solid gray;flex-grow: 1;}#sk-container-id-8 div.sk-label:hover label.sk-toggleable__label {background-color: #d4ebff;}#sk-container-id-8 div.sk-serial::before {content: \"\";position: absolute;border-left: 1px solid gray;box-sizing: border-box;top: 0;bottom: 0;left: 50%;z-index: 0;}#sk-container-id-8 div.sk-serial {display: flex;flex-direction: column;align-items: center;background-color: white;padding-right: 0.2em;padding-left: 0.2em;position: relative;}#sk-container-id-8 div.sk-item {position: relative;z-index: 1;}#sk-container-id-8 div.sk-parallel {display: flex;align-items: stretch;justify-content: center;background-color: white;position: relative;}#sk-container-id-8 div.sk-item::before, #sk-container-id-8 div.sk-parallel-item::before {content: \"\";position: absolute;border-left: 1px solid gray;box-sizing: border-box;top: 0;bottom: 0;left: 50%;z-index: -1;}#sk-container-id-8 div.sk-parallel-item {display: flex;flex-direction: column;z-index: 1;position: relative;background-color: white;}#sk-container-id-8 div.sk-parallel-item:first-child::after {align-self: flex-end;width: 50%;}#sk-container-id-8 div.sk-parallel-item:last-child::after {align-self: flex-start;width: 50%;}#sk-container-id-8 div.sk-parallel-item:only-child::after {width: 0;}#sk-container-id-8 div.sk-dashed-wrapped {border: 1px dashed gray;margin: 0 0.4em 0.5em 0.4em;box-sizing: border-box;padding-bottom: 0.4em;background-color: white;}#sk-container-id-8 div.sk-label label {font-family: monospace;font-weight: bold;display: inline-block;line-height: 1.2em;}#sk-container-id-8 div.sk-label-container {text-align: center;}#sk-container-id-8 div.sk-container {/* jupyter's `normalize.less` sets `[hidden] { display: none; }` but bootstrap.min.css set `[hidden] { display: none !important; }` so we also need the `!important` here to be able to override the default hidden behavior on the sphinx rendered scikit-learn.org. See: https://github.com/scikit-learn/scikit-learn/issues/21755 */display: inline-block !important;position: relative;}#sk-container-id-8 div.sk-text-repr-fallback {display: none;}</style><div id=\"sk-container-id-8\" class=\"sk-top-container\"><div class=\"sk-text-repr-fallback\"><pre>SVC()</pre><b>In a Jupyter environment, please rerun this cell to show the HTML representation or trust the notebook. <br />On GitHub, the HTML representation is unable to render, please try loading this page with nbviewer.org.</b></div><div class=\"sk-container\" hidden><div class=\"sk-item\"><div class=\"sk-estimator sk-toggleable\"><input class=\"sk-toggleable__control sk-hidden--visually\" id=\"sk-estimator-id-8\" type=\"checkbox\" checked><label for=\"sk-estimator-id-8\" class=\"sk-toggleable__label sk-toggleable__label-arrow\">SVC</label><div class=\"sk-toggleable__content\"><pre>SVC()</pre></div></div></div></div></div>"
            ]
          },
          "metadata": {},
          "execution_count": 157
        }
      ],
      "source": [
        "from sklearn import svm\n",
        "classifier_2 = svm.SVC()\n",
        "classifier_2.fit(X_train,Y_train)"
      ]
    },
    {
      "cell_type": "code",
      "execution_count": null,
      "metadata": {
        "colab": {
          "base_uri": "https://localhost:8080/"
        },
        "id": "zUSz86Zh6tmZ",
        "outputId": "4e2e2c84-6f28-409b-a9e3-306e8214655d"
      },
      "outputs": [
        {
          "output_type": "stream",
          "name": "stdout",
          "text": [
            "0.7745454545454545\n"
          ]
        }
      ],
      "source": [
        "y_pred = classifier_2.predict(X_test)\n",
        "accuracy_svm = accuracy_score(Y_test,y_pred)\n",
        "print(accuracy_svm)"
      ]
    },
    {
      "cell_type": "code",
      "execution_count": null,
      "metadata": {
        "id": "gwu0LwOx66kh"
      },
      "outputs": [],
      "source": [
        "from sklearn.tree import DecisionTreeClassifier"
      ]
    },
    {
      "cell_type": "code",
      "execution_count": null,
      "metadata": {
        "id": "UFGsO4m-8nuA"
      },
      "outputs": [],
      "source": [
        "classifier_3 = DecisionTreeClassifier(random_state = 0)"
      ]
    },
    {
      "cell_type": "code",
      "execution_count": null,
      "metadata": {
        "colab": {
          "base_uri": "https://localhost:8080/",
          "height": 74
        },
        "id": "SAlh4M3Z9Dw9",
        "outputId": "6ca41d56-45ae-4a68-b0c7-8289722adf38"
      },
      "outputs": [
        {
          "output_type": "execute_result",
          "data": {
            "text/plain": [
              "DecisionTreeClassifier(random_state=0)"
            ],
            "text/html": [
              "<style>#sk-container-id-9 {color: black;background-color: white;}#sk-container-id-9 pre{padding: 0;}#sk-container-id-9 div.sk-toggleable {background-color: white;}#sk-container-id-9 label.sk-toggleable__label {cursor: pointer;display: block;width: 100%;margin-bottom: 0;padding: 0.3em;box-sizing: border-box;text-align: center;}#sk-container-id-9 label.sk-toggleable__label-arrow:before {content: \"▸\";float: left;margin-right: 0.25em;color: #696969;}#sk-container-id-9 label.sk-toggleable__label-arrow:hover:before {color: black;}#sk-container-id-9 div.sk-estimator:hover label.sk-toggleable__label-arrow:before {color: black;}#sk-container-id-9 div.sk-toggleable__content {max-height: 0;max-width: 0;overflow: hidden;text-align: left;background-color: #f0f8ff;}#sk-container-id-9 div.sk-toggleable__content pre {margin: 0.2em;color: black;border-radius: 0.25em;background-color: #f0f8ff;}#sk-container-id-9 input.sk-toggleable__control:checked~div.sk-toggleable__content {max-height: 200px;max-width: 100%;overflow: auto;}#sk-container-id-9 input.sk-toggleable__control:checked~label.sk-toggleable__label-arrow:before {content: \"▾\";}#sk-container-id-9 div.sk-estimator input.sk-toggleable__control:checked~label.sk-toggleable__label {background-color: #d4ebff;}#sk-container-id-9 div.sk-label input.sk-toggleable__control:checked~label.sk-toggleable__label {background-color: #d4ebff;}#sk-container-id-9 input.sk-hidden--visually {border: 0;clip: rect(1px 1px 1px 1px);clip: rect(1px, 1px, 1px, 1px);height: 1px;margin: -1px;overflow: hidden;padding: 0;position: absolute;width: 1px;}#sk-container-id-9 div.sk-estimator {font-family: monospace;background-color: #f0f8ff;border: 1px dotted black;border-radius: 0.25em;box-sizing: border-box;margin-bottom: 0.5em;}#sk-container-id-9 div.sk-estimator:hover {background-color: #d4ebff;}#sk-container-id-9 div.sk-parallel-item::after {content: \"\";width: 100%;border-bottom: 1px solid gray;flex-grow: 1;}#sk-container-id-9 div.sk-label:hover label.sk-toggleable__label {background-color: #d4ebff;}#sk-container-id-9 div.sk-serial::before {content: \"\";position: absolute;border-left: 1px solid gray;box-sizing: border-box;top: 0;bottom: 0;left: 50%;z-index: 0;}#sk-container-id-9 div.sk-serial {display: flex;flex-direction: column;align-items: center;background-color: white;padding-right: 0.2em;padding-left: 0.2em;position: relative;}#sk-container-id-9 div.sk-item {position: relative;z-index: 1;}#sk-container-id-9 div.sk-parallel {display: flex;align-items: stretch;justify-content: center;background-color: white;position: relative;}#sk-container-id-9 div.sk-item::before, #sk-container-id-9 div.sk-parallel-item::before {content: \"\";position: absolute;border-left: 1px solid gray;box-sizing: border-box;top: 0;bottom: 0;left: 50%;z-index: -1;}#sk-container-id-9 div.sk-parallel-item {display: flex;flex-direction: column;z-index: 1;position: relative;background-color: white;}#sk-container-id-9 div.sk-parallel-item:first-child::after {align-self: flex-end;width: 50%;}#sk-container-id-9 div.sk-parallel-item:last-child::after {align-self: flex-start;width: 50%;}#sk-container-id-9 div.sk-parallel-item:only-child::after {width: 0;}#sk-container-id-9 div.sk-dashed-wrapped {border: 1px dashed gray;margin: 0 0.4em 0.5em 0.4em;box-sizing: border-box;padding-bottom: 0.4em;background-color: white;}#sk-container-id-9 div.sk-label label {font-family: monospace;font-weight: bold;display: inline-block;line-height: 1.2em;}#sk-container-id-9 div.sk-label-container {text-align: center;}#sk-container-id-9 div.sk-container {/* jupyter's `normalize.less` sets `[hidden] { display: none; }` but bootstrap.min.css set `[hidden] { display: none !important; }` so we also need the `!important` here to be able to override the default hidden behavior on the sphinx rendered scikit-learn.org. See: https://github.com/scikit-learn/scikit-learn/issues/21755 */display: inline-block !important;position: relative;}#sk-container-id-9 div.sk-text-repr-fallback {display: none;}</style><div id=\"sk-container-id-9\" class=\"sk-top-container\"><div class=\"sk-text-repr-fallback\"><pre>DecisionTreeClassifier(random_state=0)</pre><b>In a Jupyter environment, please rerun this cell to show the HTML representation or trust the notebook. <br />On GitHub, the HTML representation is unable to render, please try loading this page with nbviewer.org.</b></div><div class=\"sk-container\" hidden><div class=\"sk-item\"><div class=\"sk-estimator sk-toggleable\"><input class=\"sk-toggleable__control sk-hidden--visually\" id=\"sk-estimator-id-9\" type=\"checkbox\" checked><label for=\"sk-estimator-id-9\" class=\"sk-toggleable__label sk-toggleable__label-arrow\">DecisionTreeClassifier</label><div class=\"sk-toggleable__content\"><pre>DecisionTreeClassifier(random_state=0)</pre></div></div></div></div></div>"
            ]
          },
          "metadata": {},
          "execution_count": 161
        }
      ],
      "source": [
        "classifier_3.fit(X_train,Y_train)\n"
      ]
    },
    {
      "cell_type": "code",
      "execution_count": null,
      "metadata": {
        "colab": {
          "base_uri": "https://localhost:8080/"
        },
        "id": "RuBLVasg9J6C",
        "outputId": "f9beead7-deea-4265-915b-c6f15fe370ca"
      },
      "outputs": [
        {
          "output_type": "stream",
          "name": "stdout",
          "text": [
            "0.7745454545454545\n"
          ]
        }
      ],
      "source": [
        "y_pred = classifier_3.predict(X_test)\n",
        "accuracy = accuracy_score(Y_test,y_pred)\n",
        "print(accuracy)\n"
      ]
    },
    {
      "cell_type": "code",
      "execution_count": null,
      "metadata": {
        "colab": {
          "base_uri": "https://localhost:8080/"
        },
        "id": "Da1qExAl9T6U",
        "outputId": "afef2439-c341-48a6-b7ec-9608922d2bbc"
      },
      "outputs": [
        {
          "output_type": "stream",
          "name": "stdout",
          "text": [
            "              precision    recall  f1-score   support\n",
            "\n",
            "           0       0.71      0.81      0.76        31\n",
            "           1       0.87      0.85      0.86        39\n",
            "           2       0.70      0.63      0.67        30\n",
            "           3       0.83      0.73      0.77        33\n",
            "           4       0.67      0.93      0.78        15\n",
            "           5       0.88      0.97      0.92        29\n",
            "           6       0.94      0.70      0.80        23\n",
            "           7       0.74      0.70      0.72        20\n",
            "           8       0.81      0.85      0.83        26\n",
            "           9       0.60      0.62      0.61        29\n",
            "\n",
            "    accuracy                           0.77       275\n",
            "   macro avg       0.77      0.78      0.77       275\n",
            "weighted avg       0.78      0.77      0.77       275\n",
            "\n"
          ]
        }
      ],
      "source": [
        "print(classification_report(Y_test,y_pred))\n"
      ]
    },
    {
      "cell_type": "code",
      "execution_count": null,
      "metadata": {
        "colab": {
          "base_uri": "https://localhost:8080/"
        },
        "id": "ejmWziEU-BYe",
        "outputId": "4b7ba495-e6e2-485c-fba4-942549bfba46"
      },
      "outputs": [
        {
          "output_type": "stream",
          "name": "stdout",
          "text": [
            "Requirement already satisfied: mediapipe in /usr/local/lib/python3.10/dist-packages (0.10.2)\n",
            "Requirement already satisfied: absl-py in /usr/local/lib/python3.10/dist-packages (from mediapipe) (1.4.0)\n",
            "Requirement already satisfied: attrs>=19.1.0 in /usr/local/lib/python3.10/dist-packages (from mediapipe) (23.1.0)\n",
            "Requirement already satisfied: flatbuffers>=2.0 in /usr/local/lib/python3.10/dist-packages (from mediapipe) (23.5.26)\n",
            "Requirement already satisfied: matplotlib in /usr/local/lib/python3.10/dist-packages (from mediapipe) (3.7.1)\n",
            "Requirement already satisfied: numpy in /usr/local/lib/python3.10/dist-packages (from mediapipe) (1.22.4)\n",
            "Requirement already satisfied: opencv-contrib-python in /usr/local/lib/python3.10/dist-packages (from mediapipe) (4.7.0.72)\n",
            "Requirement already satisfied: protobuf<4,>=3.11 in /usr/local/lib/python3.10/dist-packages (from mediapipe) (3.20.3)\n",
            "Requirement already satisfied: sounddevice>=0.4.4 in /usr/local/lib/python3.10/dist-packages (from mediapipe) (0.4.6)\n",
            "Requirement already satisfied: CFFI>=1.0 in /usr/local/lib/python3.10/dist-packages (from sounddevice>=0.4.4->mediapipe) (1.15.1)\n",
            "Requirement already satisfied: contourpy>=1.0.1 in /usr/local/lib/python3.10/dist-packages (from matplotlib->mediapipe) (1.1.0)\n",
            "Requirement already satisfied: cycler>=0.10 in /usr/local/lib/python3.10/dist-packages (from matplotlib->mediapipe) (0.11.0)\n",
            "Requirement already satisfied: fonttools>=4.22.0 in /usr/local/lib/python3.10/dist-packages (from matplotlib->mediapipe) (4.41.0)\n",
            "Requirement already satisfied: kiwisolver>=1.0.1 in /usr/local/lib/python3.10/dist-packages (from matplotlib->mediapipe) (1.4.4)\n",
            "Requirement already satisfied: packaging>=20.0 in /usr/local/lib/python3.10/dist-packages (from matplotlib->mediapipe) (23.1)\n",
            "Requirement already satisfied: pillow>=6.2.0 in /usr/local/lib/python3.10/dist-packages (from matplotlib->mediapipe) (8.4.0)\n",
            "Requirement already satisfied: pyparsing>=2.3.1 in /usr/local/lib/python3.10/dist-packages (from matplotlib->mediapipe) (3.1.0)\n",
            "Requirement already satisfied: python-dateutil>=2.7 in /usr/local/lib/python3.10/dist-packages (from matplotlib->mediapipe) (2.8.2)\n",
            "Requirement already satisfied: pycparser in /usr/local/lib/python3.10/dist-packages (from CFFI>=1.0->sounddevice>=0.4.4->mediapipe) (2.21)\n",
            "Requirement already satisfied: six>=1.5 in /usr/local/lib/python3.10/dist-packages (from python-dateutil>=2.7->matplotlib->mediapipe) (1.16.0)\n"
          ]
        }
      ],
      "source": [
        "pip install mediapipe"
      ]
    },
    {
      "cell_type": "code",
      "execution_count": null,
      "metadata": {
        "id": "bB3mzssZbcTJ"
      },
      "outputs": [],
      "source": [
        "import math\n",
        "import cv2\n",
        "import numpy as np\n",
        "from time import time\n",
        "import mediapipe as mp\n",
        "import matplotlib.pyplot as plt\n",
        "from IPython.display import HTML"
      ]
    },
    {
      "cell_type": "code",
      "execution_count": null,
      "metadata": {
        "id": "izUTm5HYca0G"
      },
      "outputs": [],
      "source": [
        "mp_pose = mp.solutions.pose"
      ]
    },
    {
      "cell_type": "code",
      "execution_count": null,
      "metadata": {
        "id": "yw2j5UMbcf5I"
      },
      "outputs": [],
      "source": [
        "pose = mp_pose.Pose(static_image_mode=True, min_detection_confidence=0.3, model_complexity=2)\n"
      ]
    },
    {
      "cell_type": "code",
      "execution_count": null,
      "metadata": {
        "id": "a-YbXb_UcmJq"
      },
      "outputs": [],
      "source": [
        "mp_drawing = mp.solutions.drawing_utils\n"
      ]
    },
    {
      "cell_type": "code",
      "execution_count": null,
      "metadata": {
        "colab": {
          "base_uri": "https://localhost:8080/"
        },
        "id": "M_4LxCLOcqv3",
        "outputId": "3f14747b-399a-4083-fe47-76a341a3d4af"
      },
      "outputs": [
        {
          "output_type": "stream",
          "name": "stdout",
          "text": [
            "Requirement already satisfied: opencv-python in /usr/local/lib/python3.10/dist-packages (4.7.0.72)\n",
            "Requirement already satisfied: numpy>=1.21.2 in /usr/local/lib/python3.10/dist-packages (from opencv-python) (1.22.4)\n"
          ]
        }
      ],
      "source": [
        "pip install opencv-python\n"
      ]
    },
    {
      "cell_type": "code",
      "source": [
        "!pip install ipywebrtc\n"
      ],
      "metadata": {
        "colab": {
          "base_uri": "https://localhost:8080/"
        },
        "id": "2UuYzYcyoZYe",
        "outputId": "73d9a165-9a4a-4108-ce90-5698f8f674a8"
      },
      "execution_count": null,
      "outputs": [
        {
          "output_type": "stream",
          "name": "stdout",
          "text": [
            "Collecting ipywebrtc\n",
            "  Downloading ipywebrtc-0.6.0-py2.py3-none-any.whl (260 kB)\n",
            "\u001b[?25l     \u001b[90m━━━━━━━━━━━━━━━━━━━━━━━━━━━━━━━━━━━━━━━━\u001b[0m \u001b[32m0.0/260.7 kB\u001b[0m \u001b[31m?\u001b[0m eta \u001b[36m-:--:--\u001b[0m\r\u001b[2K     \u001b[91m━━━━━━━━━━\u001b[0m\u001b[91m╸\u001b[0m\u001b[90m━━━━━━━━━━━━━━━━━━━━━━━━━━━━━\u001b[0m \u001b[32m71.7/260.7 kB\u001b[0m \u001b[31m2.0 MB/s\u001b[0m eta \u001b[36m0:00:01\u001b[0m\r\u001b[2K     \u001b[90m━━━━━━━━━━━━━━━━━━━━━━━━━━━━━━━━━━━━━━━\u001b[0m \u001b[32m260.7/260.7 kB\u001b[0m \u001b[31m4.1 MB/s\u001b[0m eta \u001b[36m0:00:00\u001b[0m\n",
            "\u001b[?25hInstalling collected packages: ipywebrtc\n",
            "Successfully installed ipywebrtc-0.6.0\n"
          ]
        }
      ]
    },
    {
      "cell_type": "code",
      "source": [
        "pip install mediapipe"
      ],
      "metadata": {
        "colab": {
          "base_uri": "https://localhost:8080/"
        },
        "id": "p-4RZjGDpOCj",
        "outputId": "ac94fd4f-2653-43de-fc17-0e9ab9228a17"
      },
      "execution_count": null,
      "outputs": [
        {
          "output_type": "stream",
          "name": "stdout",
          "text": [
            "Collecting mediapipe\n",
            "  Downloading mediapipe-0.10.2-cp310-cp310-manylinux_2_17_x86_64.manylinux2014_x86_64.whl (33.5 MB)\n",
            "\u001b[2K     \u001b[90m━━━━━━━━━━━━━━━━━━━━━━━━━━━━━━━━━━━━━━━━\u001b[0m \u001b[32m33.5/33.5 MB\u001b[0m \u001b[31m49.6 MB/s\u001b[0m eta \u001b[36m0:00:00\u001b[0m\n",
            "\u001b[?25hRequirement already satisfied: absl-py in /usr/local/lib/python3.10/dist-packages (from mediapipe) (1.4.0)\n",
            "Requirement already satisfied: attrs>=19.1.0 in /usr/local/lib/python3.10/dist-packages (from mediapipe) (23.1.0)\n",
            "Requirement already satisfied: flatbuffers>=2.0 in /usr/local/lib/python3.10/dist-packages (from mediapipe) (23.5.26)\n",
            "Requirement already satisfied: matplotlib in /usr/local/lib/python3.10/dist-packages (from mediapipe) (3.7.1)\n",
            "Requirement already satisfied: numpy in /usr/local/lib/python3.10/dist-packages (from mediapipe) (1.22.4)\n",
            "Requirement already satisfied: opencv-contrib-python in /usr/local/lib/python3.10/dist-packages (from mediapipe) (4.7.0.72)\n",
            "Requirement already satisfied: protobuf<4,>=3.11 in /usr/local/lib/python3.10/dist-packages (from mediapipe) (3.20.3)\n",
            "Collecting sounddevice>=0.4.4 (from mediapipe)\n",
            "  Downloading sounddevice-0.4.6-py3-none-any.whl (31 kB)\n",
            "Requirement already satisfied: CFFI>=1.0 in /usr/local/lib/python3.10/dist-packages (from sounddevice>=0.4.4->mediapipe) (1.15.1)\n",
            "Requirement already satisfied: contourpy>=1.0.1 in /usr/local/lib/python3.10/dist-packages (from matplotlib->mediapipe) (1.1.0)\n",
            "Requirement already satisfied: cycler>=0.10 in /usr/local/lib/python3.10/dist-packages (from matplotlib->mediapipe) (0.11.0)\n",
            "Requirement already satisfied: fonttools>=4.22.0 in /usr/local/lib/python3.10/dist-packages (from matplotlib->mediapipe) (4.41.0)\n",
            "Requirement already satisfied: kiwisolver>=1.0.1 in /usr/local/lib/python3.10/dist-packages (from matplotlib->mediapipe) (1.4.4)\n",
            "Requirement already satisfied: packaging>=20.0 in /usr/local/lib/python3.10/dist-packages (from matplotlib->mediapipe) (23.1)\n",
            "Requirement already satisfied: pillow>=6.2.0 in /usr/local/lib/python3.10/dist-packages (from matplotlib->mediapipe) (8.4.0)\n",
            "Requirement already satisfied: pyparsing>=2.3.1 in /usr/local/lib/python3.10/dist-packages (from matplotlib->mediapipe) (3.1.0)\n",
            "Requirement already satisfied: python-dateutil>=2.7 in /usr/local/lib/python3.10/dist-packages (from matplotlib->mediapipe) (2.8.2)\n",
            "Requirement already satisfied: pycparser in /usr/local/lib/python3.10/dist-packages (from CFFI>=1.0->sounddevice>=0.4.4->mediapipe) (2.21)\n",
            "Requirement already satisfied: six>=1.5 in /usr/local/lib/python3.10/dist-packages (from python-dateutil>=2.7->matplotlib->mediapipe) (1.16.0)\n",
            "Installing collected packages: sounddevice, mediapipe\n",
            "Successfully installed mediapipe-0.10.2 sounddevice-0.4.6\n"
          ]
        }
      ]
    },
    {
      "cell_type": "code",
      "source": [
        "import cv2\n",
        "import mediapipe as mp\n",
        "import numpy as np\n",
        "import time\n",
        "from google.colab.output import eval_js\n",
        "from IPython.display import display, Javascript\n",
        "\n",
        "# Function to capture video from webcam\n",
        "def start_webcam(capture_width=640, capture_height=480, display_width=640, display_height=480):\n",
        "    js = Javascript('''\n",
        "        async function startWebcam() {\n",
        "            const stream = await navigator.mediaDevices.getUserMedia({video: true});\n",
        "            const video = document.createElement('video');\n",
        "            video.srcObject = stream;\n",
        "            video.play();\n",
        "            return video;\n",
        "        }\n",
        "        ''')\n",
        "    display(js)\n",
        "    video = eval_js('startWebcam()')\n",
        "    video.style.width = f'{display_width}px'\n",
        "    video.style.height = f'{display_height}px'\n",
        "    return video\n",
        "\n",
        "# Initialize MediaPipe Pose model\n",
        "mp_pose = mp.solutions.pose\n",
        "pose = mp_pose.Pose(static_image_mode=False, min_detection_confidence=0.5, min_tracking_confidence=0.5)\n",
        "\n",
        "# List of pose landmarks you want to store\n",
        "points = [...]\n",
        "\n",
        "def capture_image_and_landmarks():\n",
        "    video = start_webcam()\n",
        "\n",
        "    start_time = time.time()\n",
        "    last_frame = None\n",
        "\n",
        "    while time.time() - start_time <= 100:\n",
        "        ret, frame = video.read()\n",
        "\n",
        "        if not ret:\n",
        "            print(\"Failed to capture frame.\")\n",
        "            break\n",
        "\n",
        "        # Perform pose detection and landmark extraction here\n",
        "        # You can use the 'frame' variable, which contains the webcam stream frame\n",
        "\n",
        "        # Display the frame (optional)\n",
        "        cv2.imshow('Webcam', frame)\n",
        "        if cv2.waitKey(1) & 0xFF == 27:  # Press 'Esc' to exit\n",
        "            break\n",
        "\n",
        "    video.release()\n",
        "    cv2.destroyAllWindows()"
      ],
      "metadata": {
        "id": "WYkOUcQ2oyoe"
      },
      "execution_count": null,
      "outputs": []
    },
    {
      "cell_type": "code",
      "execution_count": null,
      "metadata": {
        "colab": {
          "base_uri": "https://localhost:8080/"
        },
        "id": "8J5pfrCgcsnb",
        "outputId": "50875641-dab3-4f72-e191-2d98557ccc75"
      },
      "outputs": [
        {
          "output_type": "stream",
          "name": "stdout",
          "text": [
            "Failed to capture frame.\n",
            "No frames captured.\n"
          ]
        }
      ],
      "source": [
        "# sample_img  = cv2.imread(r\"OIP.jpeg\") #uploaded this image to colab\n",
        "import cv2\n",
        "import mediapipe as mp\n",
        "import numpy as np\n",
        "import time\n",
        "\n",
        "# Initialize MediaPipe Pose model\n",
        "mp_pose = mp.solutions.pose\n",
        "pose = mp_pose.Pose(static_image_mode=False, min_detection_confidence=0.5, min_tracking_confidence=0.5)\n",
        "\n",
        "# List of pose landmarks you want to store\n",
        "points = [...]  # Add your desired pose landmarks here\n",
        "\n",
        "# Function to capture image and store pose landmarks\n",
        "def capture_image_and_landmarks():\n",
        "    cap = cv2.VideoCapture(0)  # Use the appropriate camera index if you have multiple cameras\n",
        "\n",
        "    start_time = time.time()\n",
        "    last_frame = None\n",
        "\n",
        "    while time.time() - start_time <= 10:\n",
        "        ret, frame = cap.read()\n",
        "\n",
        "        if not ret:\n",
        "            print(\"Failed to capture frame.\")\n",
        "            break\n",
        "\n",
        "        imgRGB = cv2.cvtColor(frame, cv2.COLOR_BGR2RGB)\n",
        "\n",
        "        results = pose.process(imgRGB)\n",
        "\n",
        "        if results.pose_landmarks:\n",
        "            mp_drawing.draw_landmarks(frame, results.pose_landmarks, mp_pose.POSE_CONNECTIONS)\n",
        "\n",
        "            landmarks = results.pose_landmarks.landmark\n",
        "\n",
        "            dict = {}\n",
        "            for point, landmark in zip(points, landmarks):\n",
        "                dict[point.name] = [landmark.x, landmark.y, landmark.z]\n",
        "\n",
        "        last_frame = frame  # Update the last_frame with the latest frame\n",
        "\n",
        "        cv2.imshow(\"Camera\", frame)\n",
        "        cv2.waitKey(1)\n",
        "\n",
        "    cap.release()\n",
        "    cv2.destroyAllWindows()\n",
        "\n",
        "    return last_frame\n",
        "\n",
        "# Call the function to capture images for 10 seconds and get the last frame\n",
        "last_frame = capture_image_and_landmarks()\n",
        "\n",
        "# Now you have the last_frame, and you can do further processing or saving if needed.\n",
        "if last_frame is not None:\n",
        "    plt.title(\"sample_Image\")\n",
        "    plt.axis('off')                       # Removes the labels\n",
        "    plt.imshow(last_frame[:,:,::-1])      # Convert BGR to RGB as plt.show() expects RGB\n",
        "    plt.show()                            # Display the image\n",
        "else:\n",
        "    print(\"No frames captured.\")\n",
        "# With this update, if the last_frame is None, it will print \"No frames captured.\" Otherwise, it will display the last captured frame using plt.imshow(). This will prevent the 'NoneType' object subscriptable error.\n",
        "\n",
        "\n",
        "\n",
        "\n",
        "\n",
        "\n",
        "\n",
        "# plt.figure(figsize = [10,10])                 #compress the size of image to 10x10\n",
        "# plt.title(\"sample_Image\");\n",
        "# plt.axis('off');                    #removes the labels\n",
        "# plt.imshow(last_frame[:,:,::-1]);  #converted bgr to rgb becoz to plt.show() expects rgb\n",
        "# plt.show()                          #prints the image"
      ]
    },
    {
      "cell_type": "code",
      "execution_count": null,
      "metadata": {
        "id": "0kr2UqQed2zx"
      },
      "outputs": [],
      "source": [
        "results = pose.process(cv2.cvtColor(sample_img, cv2.COLOR_BGR2RGB))"
      ]
    },
    {
      "cell_type": "code",
      "execution_count": null,
      "metadata": {
        "id": "JmAKWhLed7Gf"
      },
      "outputs": [],
      "source": [
        "image_height, image_width, _ = sample_img.shape\n",
        "\n",
        "# Check if any landmarks are found.\n",
        "if results.pose_landmarks:\n",
        "\n",
        "    # Iterate two times as we only want to display first two landmark.\n",
        "    for i in range(11,20):\n",
        "\n",
        "        # Display the found landmarks after converting them into their original scale.\n",
        "        print(f'{mp_pose.PoseLandmark(i).name}:')\n",
        "        print(f'x: {results.pose_landmarks.landmark[mp_pose.PoseLandmark(i).value].x * image_width}')\n",
        "        print(f'y: {results.pose_landmarks.landmark[mp_pose.PoseLandmark(i).value].y * image_height}')\n",
        "        print(f'z: {results.pose_landmarks.landmark[mp_pose.PoseLandmark(i).value].z * image_width}')\n",
        "        print(f'visibility: {results.pose_landmarks.landmark[mp_pose.PoseLandmark(i).value].visibility}\\n')"
      ]
    },
    {
      "cell_type": "code",
      "execution_count": null,
      "metadata": {
        "id": "Tfb7CTvTd_BN"
      },
      "outputs": [],
      "source": [
        "img_copy = sample_img.copy()\n",
        "height, width, _ = img_copy.shape\n",
        "landmarks = []\n",
        "# Check if any landmarks are found.\n",
        "if results.pose_landmarks:\n",
        "\n",
        "    # Draw Pose landmarks on the sample image.\n",
        "    mp_drawing.draw_landmarks(image=img_copy, landmark_list=results.pose_landmarks, connections=mp_pose.POSE_CONNECTIONS)\n",
        "    for landmark in results.pose_landmarks.landmark:\n",
        "\n",
        "            # Append the landmark into the list.\n",
        "            landmarks.append((int(landmark.x * width), int(landmark.y * height),\n",
        "                                  (landmark.z * width)))\n",
        "    # Specify a size of the figure.\n",
        "    fig = plt.figure(figsize = [10, 10])\n",
        "\n",
        "    # Display the output image with the landmarks drawn, also convert BGR to RGB for display.\n",
        "    plt.title(\"Output\");\n",
        "    plt.axis('off');\n",
        "    plt.imshow(img_copy[:,:,::-1]);\n",
        "    plt.show()"
      ]
    },
    {
      "cell_type": "code",
      "execution_count": null,
      "metadata": {
        "id": "GNxcX_ypeEct"
      },
      "outputs": [],
      "source": [
        "points = mp_pose.PoseLandmark       # Landmarks\n",
        "# path = r\"/content/goddess\"        # enter dataset path\n",
        "data = []\n",
        "for p in points:\n",
        "  print(p)\n",
        "for p in points:\n",
        "        x = str(p)[13:]\n",
        "        data.append(x + \"_x\")\n",
        "        data.append(x + \"_y\")\n",
        "        data.append(x + \"_z\")\n",
        "        data.append(x + \"_vis\")\n",
        "data = pd.DataFrame(columns = data)  # Empty dataset"
      ]
    },
    {
      "cell_type": "code",
      "execution_count": null,
      "metadata": {
        "id": "uxFMY6RsgiTa"
      },
      "outputs": [],
      "source": [
        "from google.colab.patches import cv2_imshow\n"
      ]
    },
    {
      "cell_type": "code",
      "execution_count": null,
      "metadata": {
        "id": "AGMQZEWJhfeT"
      },
      "outputs": [],
      "source": [
        "\n",
        "# img = cv2.imread(r\"OIP.jpeg\")\n",
        "\n",
        "        # imageWidth, imageHeight = img.shape[:2]\n",
        "\n",
        "imgRGB = cv2.cvtColor(sample_img, cv2.COLOR_BGR2RGB)\n",
        "        # results = pose.process(cv2.cvtColor(img, cv2.COLOR_BGR2RGB))\n",
        "\n",
        "blackie = np.zeros(sample_img.shape) # Blank image\n",
        "\n",
        "results = pose.process(imgRGB)\n",
        "\n",
        "if results.pose_landmarks:\n",
        "  mp_drawing.draw_landmarks(blackie, results.pose_landmarks, mp_pose.POSE_CONNECTIONS) # draw landmarks on blackie\n",
        "\n",
        "  landmarks = results.pose_landmarks.landmark\n",
        "\n",
        "  # for i,j in zip(points,landmarks):\n",
        "  #   print(points[count])\n",
        "\n",
        "  dict = {}\n",
        "  for point, j in zip(points, landmarks):\n",
        "    temp = temp + [j.x, j.y, j.z]\n",
        "    # temp.extend([landmark.x, landmark.y, landmark.z])\n",
        "    key = point.name\n",
        "    value = [temp[count], temp[count+1], temp[count+2]]\n",
        "    dict[key] = value\n",
        "    count = count + 1\n",
        "\n",
        "cv2_imshow(img)\n",
        "\n",
        "cv2_imshow(blackie)\n",
        "\n",
        "\n"
      ]
    },
    {
      "cell_type": "code",
      "execution_count": null,
      "metadata": {
        "id": "2r7_JabTKirV"
      },
      "outputs": [],
      "source": [
        "#xyz_distances\n",
        "x_left_shoulder_left_wrist = dict['LEFT_WRIST'][0] - dict['LEFT_SHOULDER'][0]#(0.48930972814559937)-(-0.276510596275329)\n",
        "y_left_shoulder_left_wrist = dict['LEFT_WRIST'][1] - dict['LEFT_SHOULDER'][1]#(0.143650084733963) -  (0.4948402941226959)\n",
        "z_left_shoulder_left_wrist =  dict['LEFT_WRIST'][2] - dict['LEFT_SHOULDER'][2]#(-0.3052274286746979) - (0.14425188302993774)\n",
        "\n",
        "x_right_shoulder_right_wrist = dict['RIGHT_WRIST'][0] - dict['RIGHT_SHOULDER'][0]#0.143650084733963 - 0.4948402941226959\n",
        "y_right_shoulder_right_wrist = dict['RIGHT_WRIST'][1] - dict['RIGHT_SHOULDER'][1]#(-0.3052274286746979) -\t0.14425188302993774\n",
        "z_right_shoulder_right_wrist = dict['RIGHT_WRIST'][2] - dict['RIGHT_SHOULDER'][2]#0.48236632347106934 - (-0.3048369586467743)\n",
        "\n",
        "x_left_hip_left_ankle\t= dict['LEFT_ANKLE'][0] - dict['LEFT_HIP'][0]#0.5012699365615845 - (-0.12573319673538208)\n",
        "y_left_hip_left_ankle\t= dict['LEFT_ANKLE'][1] - dict['LEFT_HIP'][1]#0.1965891420841217 - 0.45757120847702026\n",
        "z_left_hip_left_ankle\t= dict['LEFT_ANKLE'][2] - dict['LEFT_HIP'][2]#(-0.24418438971042633)- 0.15223582088947296\n",
        "\n",
        "x_right_hip_right_ankle\t=  dict['RIGHT_ANKLE'][0] - dict['RIGHT_HIP'][0]\n",
        "y_right_hip_right_ankle\t= dict['RIGHT_ANKLE'][1] - dict['RIGHT_HIP'][1]\n",
        "z_right_hip_right_ankle = dict['RIGHT_ANKLE'][2] - dict['RIGHT_HIP'][2]\n",
        "\n",
        "x_left_hip_left_wrist\t= dict['LEFT_WRIST'][0] - dict['LEFT_HIP'][0]\n",
        "y_left_hip_left_wrist\t=  dict['LEFT_WRIST'][1] - dict['LEFT_HIP'][1]\n",
        "z_left_hip_left_wrist\t=  dict['LEFT_WRIST'][2] - dict['LEFT_HIP'][2]\n",
        "\n",
        "x_right_hip_right_wrist\t= dict['RIGHT_WRIST'][0] - dict['RIGHT_HIP'][0]\n",
        "y_right_hip_right_wrist\t= dict['RIGHT_WRIST'][1] - dict['RIGHT_HIP'][1]\n",
        "z_right_hip_right_wrist\t= dict['RIGHT_WRIST'][2] - dict['RIGHT_HIP'][2]\n",
        "\n",
        "x_left_shoulder_left_ankle\t= dict['LEFT_ANKLE'][0] - dict['LEFT_SHOULDER'][0]\n",
        "y_left_shoulder_left_ankle = dict['LEFT_ANKLE'][1] - dict['LEFT_SHOULDER'][1]\n",
        "z_left_shoulder_left_ankle = dict['LEFT_ANKLE'][2] - dict['LEFT_SHOULDER'][2]\n",
        "\n",
        "x_right_shoulder_right_ankle = dict['RIGHT_ANKLE'][0] - dict['RIGHT_SHOULDER'][0]\n",
        "y_right_shoulder_right_ankle = dict['RIGHT_ANKLE'][1] - dict['RIGHT_SHOULDER'][1]\n",
        "z_right_shoulder_right_ankle = dict['RIGHT_ANKLE'][2] - dict['RIGHT_SHOULDER'][2]\n",
        "\n",
        "x_left_hip_right_wrist = dict['RIGHT_WRIST'][0] - dict['LEFT_HIP'][0]\n",
        "y_left_hip_right_wrist = dict['RIGHT_WRIST'][1] - dict['LEFT_HIP'][1]\n",
        "z_left_hip_right_wrist = dict['RIGHT_WRIST'][2] - dict['LEFT_HIP'][2]\n",
        "\n",
        "x_right_hip_left_wrist = dict['LEFT_WRIST'][0] - dict['RIGHT_HIP'][0]\n",
        "y_right_hip_left_wrist\t= dict['LEFT_WRIST'][1] - dict['RIGHT_HIP'][1]\n",
        "z_right_hip_left_wrist\t= dict['LEFT_WRIST'][2] - dict['RIGHT_HIP'][2]\n",
        "\n",
        "x_left_elbow_right_elbow = dict['RIGHT_ELBOW'][0] - dict['LEFT_ELBOW'][0]\n",
        "y_left_elbow_right_elbow = dict['RIGHT_ELBOW'][1] - dict['LEFT_ELBOW'][1]\n",
        "z_left_elbow_right_elbow = dict['RIGHT_ELBOW'][2] - dict['LEFT_ELBOW'][2]\n",
        "\n",
        "x_left_knee_right_knee = dict['RIGHT_KNEE'][0] - dict['LEFT_KNEE'][0]\n",
        "y_left_knee_right_knee\t= dict['RIGHT_KNEE'][1] - dict['LEFT_KNEE'][1]\n",
        "z_left_knee_right_knee\t= dict['RIGHT_KNEE'][2] - dict['LEFT_KNEE'][2]\n",
        "\n",
        "x_left_wrist_right_wrist = dict['RIGHT_WRIST'][0] - dict['LEFT_WRIST'][0]\n",
        "y_left_wrist_right_wrisT = dict['RIGHT_WRIST'][1] - dict['LEFT_WRIST'][1]\n",
        "z_left_wrist_right_wrist = dict['RIGHT_WRIST'][2] - dict['LEFT_WRIST'][2]\n",
        "\n",
        "x_left_ankle_right_ankle = dict['RIGHT_ANKLE'][0] - dict['LEFT_ANKLE'][0]\n",
        "y_left_ankle_right_ankle\t= dict['RIGHT_ANKLE'][1] - dict['LEFT_ANKLE'][1]\n",
        "z_left_ankle_right_ankle = dict['RIGHT_ANKLE'][2] - dict['LEFT_ANKLE'][2]\n",
        "\n",
        "x_left_hip_avg_left_wrist_left_ankle = dict['LEFT_HIP'][0]-(dict['LEFT_WRIST'][0] + dict['LEFT_ANKLE'][0])/2\n",
        "y_left_hip_avg_left_wrist_left_ankle = dict['LEFT_HIP'][1]-(dict['LEFT_WRIST'][1] + dict['LEFT_ANKLE'][1])/2\n",
        "z_left_hip_avg_left_wrist_left_ankle = dict['LEFT_HIP'][2]-(dict['LEFT_WRIST'][2] + dict['LEFT_ANKLE'][2])/2\n",
        "\n",
        "x_right_hip_avg_right_wrist_right_ankle = dict['RIGHT_HIP'][0]-(dict['RIGHT_WRIST'][0] + dict['RIGHT_ANKLE'][0])/2\n",
        "y_right_hip_avg_right_wrist_right_ankle\t= dict['RIGHT_HIP'][1]-(dict['RIGHT_WRIST'][1] + dict['RIGHT_ANKLE'][1])/2\n",
        "z_right_hip_avg_right_wrist_right_ankle = dict['RIGHT_HIP'][2]-(dict['RIGHT_WRIST'][2] + dict['RIGHT_ANKLE'][2])/2\n"
      ]
    },
    {
      "cell_type": "code",
      "execution_count": null,
      "metadata": {
        "id": "-bf7_QnfM_Ly"
      },
      "outputs": [],
      "source": [
        "#xyz_distances\n",
        "c1 = dict['LEFT_WRIST'][0] - dict['LEFT_SHOULDER'][0]\n",
        "c2 = dict['LEFT_WRIST'][1] - dict['LEFT_SHOULDER'][1]\n",
        "c3 =  dict['LEFT_WRIST'][2] - dict['LEFT_SHOULDER'][2]\n",
        "\n",
        "c4 = dict['RIGHT_WRIST'][0] - dict['RIGHT_SHOULDER'][0]\n",
        "c5 = dict['RIGHT_WRIST'][1] - dict['RIGHT_SHOULDER'][1]\n",
        "c6 = dict['RIGHT_WRIST'][2] - dict['RIGHT_SHOULDER'][2]\n",
        "\n",
        "c7\t= dict['LEFT_ANKLE'][0] - dict['LEFT_HIP'][0]\n",
        "c8\t= dict['LEFT_ANKLE'][1] - dict['LEFT_HIP'][1]\n",
        "c9\t= dict['LEFT_ANKLE'][2] - dict['LEFT_HIP'][2]\n",
        "\n",
        "c10\t=  dict['RIGHT_ANKLE'][0] - dict['RIGHT_HIP'][0]\n",
        "c11\t= dict['RIGHT_ANKLE'][1] - dict['RIGHT_HIP'][1]\n",
        "c12 = dict['RIGHT_ANKLE'][2] - dict['RIGHT_HIP'][2]\n",
        "\n",
        "c13\t= dict['LEFT_WRIST'][0] - dict['LEFT_HIP'][0]\n",
        "c14\t=  dict['LEFT_WRIST'][1] - dict['LEFT_HIP'][1]\n",
        "c15=  dict['LEFT_WRIST'][2] - dict['LEFT_HIP'][2]\n",
        "\n",
        "c16\t= dict['RIGHT_WRIST'][0] - dict['RIGHT_HIP'][0]\n",
        "c17\t= dict['RIGHT_WRIST'][1] - dict['RIGHT_HIP'][1]\n",
        "c18= dict['RIGHT_WRIST'][2] - dict['RIGHT_HIP'][2]\n",
        "\n",
        "c19\t= dict['LEFT_ANKLE'][0] - dict['LEFT_SHOULDER'][0]\n",
        "c20 = dict['LEFT_ANKLE'][1] - dict['LEFT_SHOULDER'][1]\n",
        "c21 = dict['LEFT_ANKLE'][2] - dict['LEFT_SHOULDER'][2]\n",
        "\n",
        "c22 = dict['RIGHT_ANKLE'][0] - dict['RIGHT_SHOULDER'][0]\n",
        "c23 = dict['RIGHT_ANKLE'][1] - dict['RIGHT_SHOULDER'][1]\n",
        "c24 = dict['RIGHT_ANKLE'][2] - dict['RIGHT_SHOULDER'][2]\n",
        "\n",
        "c25 = dict['RIGHT_WRIST'][0] - dict['LEFT_HIP'][0]\n",
        "c26 = dict['RIGHT_WRIST'][1] - dict['LEFT_HIP'][1]\n",
        "c27 = dict['RIGHT_WRIST'][2] - dict['LEFT_HIP'][2]\n",
        "\n",
        "c28 = dict['LEFT_WRIST'][0] - dict['RIGHT_HIP'][0]\n",
        "c29\t= dict['LEFT_WRIST'][1] - dict['RIGHT_HIP'][1]\n",
        "c30\t= dict['LEFT_WRIST'][2] - dict['RIGHT_HIP'][2]\n",
        "\n",
        "c31 = dict['RIGHT_ELBOW'][0] - dict['LEFT_ELBOW'][0]\n",
        "c32 = dict['RIGHT_ELBOW'][1] - dict['LEFT_ELBOW'][1]\n",
        "c33 = dict['RIGHT_ELBOW'][2] - dict['LEFT_ELBOW'][2]\n",
        "\n",
        "c34 = dict['RIGHT_KNEE'][0] - dict['LEFT_KNEE'][0]\n",
        "c35\t= dict['RIGHT_KNEE'][1] - dict['LEFT_KNEE'][1]\n",
        "c36\t= dict['RIGHT_KNEE'][2] - dict['LEFT_KNEE'][2]\n",
        "\n",
        "c37 = dict['RIGHT_WRIST'][0] - dict['LEFT_WRIST'][0]\n",
        "c38 = dict['RIGHT_WRIST'][1] - dict['LEFT_WRIST'][1]\n",
        "c39 = dict['RIGHT_WRIST'][2] - dict['LEFT_WRIST'][2]\n",
        "\n",
        "c40 = dict['RIGHT_ANKLE'][0] - dict['LEFT_ANKLE'][0]\n",
        "c41\t= dict['RIGHT_ANKLE'][1] - dict['LEFT_ANKLE'][1]\n",
        "c42= dict['RIGHT_ANKLE'][2] - dict['LEFT_ANKLE'][2]\n",
        "\n",
        "c43 = dict['LEFT_HIP'][0]-(dict['LEFT_WRIST'][0] + dict['LEFT_ANKLE'][0])/2\n",
        "c44 = dict['LEFT_HIP'][1]-(dict['LEFT_WRIST'][1] + dict['LEFT_ANKLE'][1])/2\n",
        "c45 = dict['LEFT_HIP'][2]-(dict['LEFT_WRIST'][2] + dict['LEFT_ANKLE'][2])/2\n",
        "\n",
        "c46 = dict['RIGHT_HIP'][0]-(dict['RIGHT_WRIST'][0] + dict['RIGHT_ANKLE'][0])/2\n",
        "c47\t= dict['RIGHT_HIP'][1]-(dict['RIGHT_WRIST'][1] + dict['RIGHT_ANKLE'][1])/2\n",
        "c48 = dict['RIGHT_HIP'][2]-(dict['RIGHT_WRIST'][2] + dict['RIGHT_ANKLE'][2])/2\n"
      ]
    },
    {
      "cell_type": "code",
      "execution_count": null,
      "metadata": {
        "id": "GkxkEXH_2i1j"
      },
      "outputs": [],
      "source": [
        "#3d_distances\n",
        "\n",
        "c49 = np.sqrt((dict['LEFT_WRIST'][0] - dict['LEFT_SHOULDER'][0])**2 + (dict['LEFT_WRIST'][1] - dict['LEFT_SHOULDER'][1])**2 + (dict['LEFT_WRIST'][2] - dict['LEFT_SHOULDER'][2])**2)\n",
        "c50 = np.sqrt((dict['RIGHT_WRIST'][0] - dict['RIGHT_SHOULDER'][0])**2 + (dict['RIGHT_WRIST'][1] - dict['RIGHT_SHOULDER'][1])**2 + (dict['RIGHT_WRIST'][2] - dict['RIGHT_SHOULDER'][2])**2)\n",
        "c51= np.sqrt((dict['LEFT_ANKLE'][0] - dict['LEFT_HIP'][0])**2 + (dict['LEFT_ANKLE'][1] - dict['LEFT_HIP'][1])**2 + (dict['LEFT_ANKLE'][2] - dict['LEFT_HIP'][2])**2)\n",
        "c52= np.sqrt((dict['RIGHT_ANKLE'][0] - dict['RIGHT_HIP'][0])**2 + (dict['RIGHT_ANKLE'][1] - dict['RIGHT_HIP'][1])**2 + (dict['RIGHT_ANKLE'][2] - dict['RIGHT_HIP'][2])**2)\n",
        "c53\t= np.sqrt((dict['LEFT_WRIST'][0] - dict['LEFT_HIP'][0])**2 + (dict['LEFT_WRIST'][1] - dict['LEFT_HIP'][1])**2 + (dict['LEFT_WRIST'][2] - dict['LEFT_HIP'][2])**2)\n",
        "c54\t= np.sqrt((dict['RIGHT_WRIST'][0] - dict['RIGHT_HIP'][0])**2 + (dict['RIGHT_WRIST'][1] - dict['RIGHT_HIP'][1])**2 + (dict['RIGHT_WRIST'][2] - dict['RIGHT_HIP'][2])**2)\n",
        "c55 = np.sqrt((dict['LEFT_ANKLE'][0] - dict['LEFT_SHOULDER'][0])**2 + (dict['LEFT_ANKLE'][1] - dict['LEFT_SHOULDER'][1])**2 + (dict['LEFT_ANKLE'][2] - dict['LEFT_SHOULDER'][2])**2)\n",
        "c56 = np.sqrt((dict['RIGHT_ANKLE'][0] - dict['RIGHT_SHOULDER'][0])**2 + (dict['RIGHT_ANKLE'][1] - dict['RIGHT_SHOULDER'][1])**2 + (dict['RIGHT_ANKLE'][2] - dict['RIGHT_SHOULDER'][2])**2)\n",
        "c57 = np.sqrt((dict['RIGHT_WRIST'][0] - dict['LEFT_HIP'][0])**2 + (dict['RIGHT_WRIST'][1] - dict['LEFT_HIP'][1])**2 + (dict['RIGHT_WRIST'][2] - dict['LEFT_HIP'][2])**2)\n",
        "c58 = np.sqrt((dict['LEFT_WRIST'][0] - dict['RIGHT_HIP'][0])**2 + (dict['LEFT_WRIST'][1] - dict['RIGHT_HIP'][1])**2 + (dict['LEFT_WRIST'][2] - dict['RIGHT_HIP'][2])**2)\n",
        "c59= np.sqrt((dict['RIGHT_ELBOW'][0] - dict['LEFT_ELBOW'][0])**2 + (dict['RIGHT_ELBOW'][1] - dict['LEFT_ELBOW'][1])**2 + (dict['RIGHT_ELBOW'][2] - dict['LEFT_ELBOW'][2])**2)\n",
        "c60 = np.sqrt((dict['RIGHT_KNEE'][0] - dict['LEFT_KNEE'][0])**2 + (dict['RIGHT_KNEE'][1] - dict['LEFT_KNEE'][1])**2 + (dict['RIGHT_KNEE'][2] - dict['LEFT_KNEE'][2])**2)\n",
        "c61 = np.sqrt((dict['RIGHT_WRIST'][0] - dict['LEFT_WRIST'][0])**2 + (dict['RIGHT_WRIST'][1] - dict['LEFT_WRIST'][1])**2 + (dict['RIGHT_WRIST'][2] - dict['LEFT_WRIST'][2])**2)\n",
        "c62 = np.sqrt((dict['RIGHT_ANKLE'][0] - dict['LEFT_ANKLE'][0])**2 + (dict['RIGHT_ANKLE'][1] - dict['LEFT_ANKLE'][1])**2 + (dict['RIGHT_ANKLE'][2] - dict['LEFT_ANKLE'][2])**2)\n",
        "\n",
        "x_avg = (dict['LEFT_WRIST'][0] + dict['LEFT_ANKLE'][0])/2\n",
        "y_avg = (dict['LEFT_WRIST'][1] + dict['LEFT_ANKLE'][1])/2\n",
        "z_avg = (dict['LEFT_WRIST'][2] + dict['LEFT_ANKLE'][2])/2\n",
        "\n",
        "c63 = np.sqrt((x_avg - dict['LEFT_HIP'][0])**2 + (y_avg - dict['LEFT_HIP'][1])**2 + (z_avg - dict['LEFT_HIP'][2])**2)\n",
        "\n",
        "\n",
        "\n",
        "x_avg = (dict['RIGHT_WRIST'][0] + dict['LEFT_ANKLE'][0])/2\n",
        "y_avg = (dict['RIGHT_WRIST'][1] + dict['LEFT_ANKLE'][1])/2\n",
        "z_avg = (dict['RIGHT_WRIST'][2] + dict['LEFT_ANKLE'][2])/2\n",
        "c64 = np.sqrt((x_avg - dict['RIGHT_HIP'][0])**2 + (y_avg - dict['RIGHT_HIP'][1])**2 + (z_avg - dict['RIGHT_HIP'][2])**2)"
      ]
    },
    {
      "cell_type": "code",
      "source": [
        "#angles\n",
        "import math\n",
        "import numpy as np\n",
        "\n",
        "Ax = dict['RIGHT_SHOULDER'][0] - dict['RIGHT_ELBOW'][0]\n",
        "Ay = dict['RIGHT_SHOULDER'][1] - dict['RIGHT_ELBOW'][1]\n",
        "Az = dict['RIGHT_SHOULDER'][2] - dict['RIGHT_ELBOW'][2]\n",
        "Bx = dict['RIGHT_SHOULDER'][0] - dict['RIGHT_HIP'][0]\n",
        "By = dict['RIGHT_SHOULDER'][1] - dict['RIGHT_HIP'][1]\n",
        "Bz = dict['RIGHT_SHOULDER'][2] - dict['RIGHT_HIP'][2]\n",
        "AdotB = (Ax * Bx) + (Ay * By) + (Az * Bz)\n",
        "modA = np.sqrt(Ax**2 + Ay**2 + Az**2)\n",
        "modB = np.sqrt(Bx**2 + By**2 + Bz**2)\n",
        "cos_angle = AdotB / (modA * modB)\n",
        "angle = np.arccos(cos_angle)\n",
        "c65= np.degrees(angle)\n",
        "\n",
        "Ax = dict['LEFT_SHOULDER'][0] - dict['LEFT_ELBOW'][0]\n",
        "Ay = dict['LEFT_SHOULDER'][1] - dict['LEFT_ELBOW'][1]\n",
        "Az = dict['LEFT_SHOULDER'][2] - dict['LEFT_ELBOW'][2]\n",
        "Bx = dict['LEFT_SHOULDER'][0] - dict['LEFT_HIP'][0]\n",
        "By = dict['LEFT_SHOULDER'][1] - dict['LEFT_HIP'][1]\n",
        "Bz = dict['LEFT_SHOULDER'][2] - dict['LEFT_HIP'][2]\n",
        "AdotB = (Ax * Bx) + (Ay * By) + (Az * Bz)\n",
        "modA = np.sqrt(Ax**2 + Ay**2 + Az**2)\n",
        "modB = np.sqrt(Bx**2 + By**2 + Bz**2)\n",
        "cos_angle = AdotB / (modA * modB)\n",
        "angle = np.arccos(cos_angle)\n",
        "c66\t= np.degrees(angle)\n",
        "\n",
        "Ax = (dict['LEFT_HIP'][0] + dict['RIGHT_HIP'][0])/2 - dict['RIGHT_KNEE'][0]\n",
        "Ay =(dict['LEFT_HIP'][1] + dict['RIGHT_HIP'][1])/2 - dict['RIGHT_KNEE'][1]\n",
        "Az = (dict['LEFT_HIP'][2] + dict['RIGHT_HIP'][2])/2 - dict['RIGHT_KNEE'][2]\n",
        "Bx = (dict['LEFT_HIP'][0] + dict['RIGHT_HIP'][0])/2 - dict['LEFT_KNEE'][0]\n",
        "By = (dict['LEFT_HIP'][1] + dict['RIGHT_HIP'][1])/2 - dict['LEFT_KNEE'][1]\n",
        "Bz = (dict['LEFT_HIP'][2] + dict['RIGHT_HIP'][2])/2 - dict['LEFT_KNEE'][2]\n",
        "AdotB = (Ax * Bx) + (Ay * By) + (Az * Bz)\n",
        "modA = np.sqrt(Ax**2 + Ay**2 + Az**2)\n",
        "modB = np.sqrt(Bx**2 + By**2 + Bz**2)\n",
        "cos_angle = AdotB / (modA * modB)\n",
        "angle = np.arccos(cos_angle)\n",
        "c67 = np.degrees(angle)\n",
        "# print(right_knee_mid_hip_left_knee )\n",
        "\n",
        "\n",
        "Ax = dict['RIGHT_KNEE'][0] - dict['RIGHT_HIP'][0]\n",
        "Ay = dict['RIGHT_KNEE'][1] - dict['RIGHT_HIP'][1]\n",
        "Az = dict['RIGHT_KNEE'][2] - dict['RIGHT_HIP'][2]\n",
        "Bx = dict['RIGHT_KNEE'][0] - dict['RIGHT_ANKLE'][0]\n",
        "By = dict['RIGHT_KNEE'][1] - dict['RIGHT_ANKLE'][1]\n",
        "Bz = dict['RIGHT_KNEE'][2] - dict['RIGHT_ANKLE'][2]\n",
        "AdotB = (Ax * Bx) + (Ay * By) + (Az * Bz)\n",
        "modA = np.sqrt(Ax**2 + Ay**2 + Az**2)\n",
        "modB = np.sqrt(Bx**2 + By**2 + Bz**2)\n",
        "cos_angle = AdotB / (modA * modB)\n",
        "angle = np.arccos(cos_angle)\n",
        "c68 = np.degrees(angle)\n",
        "\n",
        "Ax = dict['LEFT_KNEE'][0] - dict['LEFT_HIP'][0]\n",
        "Ay = dict['LEFT_KNEE'][1] - dict['LEFT_HIP'][1]\n",
        "Az = dict['LEFT_KNEE'][2] - dict['LEFT_HIP'][2]\n",
        "Bx = dict['LEFT_KNEE'][0] - dict['LEFT_ANKLE'][0]\n",
        "By = dict['LEFT_KNEE'][1] - dict['LEFT_ANKLE'][1]\n",
        "Bz = dict['LEFT_KNEE'][2] - dict['LEFT_ANKLE'][2]\n",
        "AdotB = (Ax * Bx) + (Ay * By) + (Az * Bz)\n",
        "modA = np.sqrt(Ax**2 + Ay**2 + Az**2)\n",
        "modB = np.sqrt(Bx**2 + By**2 + Bz**2)\n",
        "cos_angle = AdotB / (modA * modB)\n",
        "angle = np.arccos(cos_angle)\n",
        "c69=  np.degrees(angle)\n",
        "\n",
        "\n",
        "Ax = dict['RIGHT_ELBOW'][0] - dict['RIGHT_WRIST'][0]\n",
        "Ay = dict['RIGHT_ELBOW'][1] - dict['RIGHT_WRIST'][1]\n",
        "Az = dict['RIGHT_ELBOW'][2] - dict['RIGHT_WRIST'][2]\n",
        "Bx = dict['RIGHT_ELBOW'][0] - dict['RIGHT_SHOULDER'][0]\n",
        "By = dict['RIGHT_ELBOW'][1] - dict['RIGHT_SHOULDER'][1]\n",
        "Bz = dict['RIGHT_ELBOW'][2] - dict['RIGHT_SHOULDER'][2]\n",
        "AdotB = (Ax * Bx) + (Ay * By) + (Az * Bz)\n",
        "modA = np.sqrt(Ax**2 + Ay**2 + Az**2)\n",
        "modB = np.sqrt(Bx**2 + By**2 + Bz**2)\n",
        "cos_angle = AdotB / (modA * modB)\n",
        "angle = np.arccos(cos_angle)\n",
        "c70 = np.degrees(angle)\n",
        "\n",
        "Ax = dict['LEFT_ELBOW'][0] - dict['LEFT_WRIST'][0]\n",
        "Ay = dict['LEFT_ELBOW'][1] - dict['LEFT_WRIST'][1]\n",
        "Az = dict['LEFT_ELBOW'][2] - dict['LEFT_WRIST'][2]\n",
        "Bx = dict['LEFT_ELBOW'][0] - dict['LEFT_SHOULDER'][0]\n",
        "By = dict['LEFT_ELBOW'][1] - dict['LEFT_SHOULDER'][1]\n",
        "Bz = dict['LEFT_ELBOW'][2] - dict['LEFT_SHOULDER'][2]\n",
        "AdotB = (Ax * Bx) + (Ay * By) + (Az * Bz)\n",
        "modA = np.sqrt(Ax**2 + Ay**2 + Az**2)\n",
        "modB = np.sqrt(Bx**2 + By**2 + Bz**2)\n",
        "cos_angle = AdotB / (modA * modB)\n",
        "angle = np.arccos(cos_angle)\n",
        "c71 = np.degrees(angle)\n"
      ],
      "metadata": {
        "id": "zkLO4kjKl5t3"
      },
      "execution_count": null,
      "outputs": []
    },
    {
      "cell_type": "code",
      "execution_count": null,
      "metadata": {
        "id": "bCvjyb8qONIj"
      },
      "outputs": [],
      "source": [
        "for i in range(1,72):\n",
        "  if(i!=67):\n",
        "    temp.append(locals()['c' + str(i)])"
      ]
    },
    {
      "cell_type": "code",
      "execution_count": null,
      "metadata": {
        "id": "NZR4KZyC3PmC"
      },
      "outputs": [],
      "source": [
        "#angles\n",
        "# import pandas as pd\n",
        "\n",
        "# file_2 = pd.read_csv('angles.csv')\n",
        "# file_2.shape\n",
        "# file_2.iloc[:1,:]\n",
        "len(temp)"
      ]
    },
    {
      "cell_type": "code",
      "execution_count": null,
      "metadata": {
        "id": "nFdpEIviCBFc"
      },
      "outputs": [],
      "source": [
        "# right_elbow_right_shoulder_right_hip\n",
        "# left_elbow_left_shoulder_left_hip\n",
        "# right_knee_mid_hip_left_knee\n",
        "# right_hip_right_knee_right_ankle\n",
        "# left_hip_left_knee_left_ankle\n",
        "# right_wrist_right_elbow_right_shoulder\n",
        "# left_wrist_left_elbow_left_shoulder"
      ]
    },
    {
      "cell_type": "code",
      "execution_count": null,
      "metadata": {
        "id": "Us_zzwq_ttO6"
      },
      "outputs": [],
      "source": [
        "file_4['z_right_ankle'][0]-file_4['z_left_ankle'][0]"
      ]
    },
    {
      "cell_type": "code",
      "execution_count": null,
      "metadata": {
        "id": "m1DeF8ZnvGj1"
      },
      "outputs": [],
      "source": [
        "print(file_5['z_left_ankle_right_ankle'][0])\n"
      ]
    },
    {
      "cell_type": "code",
      "execution_count": null,
      "metadata": {
        "id": "ywxvXVYjkqBT"
      },
      "outputs": [],
      "source": [
        "len(temp)"
      ]
    },
    {
      "cell_type": "code",
      "execution_count": null,
      "metadata": {
        "id": "ZxPRWQO_lG4R"
      },
      "outputs": [],
      "source": [
        "merged_data.tail()"
      ]
    },
    {
      "cell_type": "code",
      "source": [
        "X_train"
      ],
      "metadata": {
        "id": "iMwngAFsTq6r"
      },
      "execution_count": null,
      "outputs": []
    },
    {
      "cell_type": "code",
      "execution_count": null,
      "metadata": {
        "id": "7vRaxTS3rvB8"
      },
      "outputs": [],
      "source": [
        "# print(temp)\n",
        "temp = np.array(temp)         # Convert the temp list to a numpy array\n",
        "temp = temp.reshape(-1, 169)  # Reshape to a 2D array with 33 columns (3 coordinates per landmark)\n",
        "print(temp)"
      ]
    },
    {
      "cell_type": "code",
      "execution_count": null,
      "metadata": {
        "id": "TDPKVUNboAer"
      },
      "outputs": [],
      "source": [
        "y_pred = classifier.predict(temp)"
      ]
    },
    {
      "cell_type": "code",
      "execution_count": null,
      "metadata": {
        "id": "xIPqTjZlrIaM"
      },
      "outputs": [],
      "source": [
        "y_pred_class_names = encoder.inverse_transform(y_pred)\n",
        "y_pred_class_names"
      ]
    },
    {
      "cell_type": "code",
      "source": [],
      "metadata": {
        "id": "ygWU80r8GKSf"
      },
      "execution_count": null,
      "outputs": []
    }
  ],
  "metadata": {
    "colab": {
      "provenance": []
    },
    "kernelspec": {
      "display_name": "Python 3",
      "name": "python3"
    },
    "language_info": {
      "name": "python"
    }
  },
  "nbformat": 4,
  "nbformat_minor": 0
}