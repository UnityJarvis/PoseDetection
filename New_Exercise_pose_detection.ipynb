{
  "cells": [
    {
      "cell_type": "markdown",
      "metadata": {},
      "source": [
        "Installation"
      ]
    },
    {
      "cell_type": "code",
      "execution_count": null,
      "metadata": {},
      "outputs": [],
      "source": [
        "pip install scikit-learn"
      ]
    },
    {
      "cell_type": "code",
      "execution_count": null,
      "metadata": {},
      "outputs": [],
      "source": [
        "pip install opencv-python"
      ]
    },
    {
      "cell_type": "code",
      "execution_count": null,
      "metadata": {},
      "outputs": [],
      "source": [
        "pip install mediapipe"
      ]
    },
    {
      "cell_type": "markdown",
      "metadata": {},
      "source": [
        "Required Libraries\n"
      ]
    },
    {
      "cell_type": "code",
      "execution_count": null,
      "metadata": {
        "id": "RXbRVmXNk0Da"
      },
      "outputs": [],
      "source": [
        "\n",
        "import pandas as pd\n",
        "import numpy as np\n",
        "\n",
        "from sklearn.preprocessing import LabelEncoder\n",
        "from sklearn.utils.class_weight import compute_class_weight\n",
        "\n",
        "# from sklearn.linear_model import LogisticRegression, SGDClassifier\n",
        "# from sklearn.ensemble import RandomForestClassifier, GradientBoostingClassifier\n",
        "# from sklearn.naive_bayes import MultinomialNB, GaussianNB, BernoulliNB\n",
        "# from sklearn.neighbors import KNeighborsClassifier\n",
        "# from sklearn.svm import SVC\n",
        "# from sklearn.neural_network import MLPClassifier\n",
        "from sklearn.preprocessing import normalize\n",
        "\n",
        "\n",
        "from pandas.core.common import random_state\n",
        "from sklearn.metrics import accuracy_score\n",
        "\n",
        "import numpy as np\n",
        "from time import time\n",
        "import mediapipe as mp\n",
        "import matplotlib.pyplot as plt\n",
        "\n"
      ]
    },
    {
      "cell_type": "markdown",
      "metadata": {},
      "source": [
        "Read csv files "
      ]
    },
    {
      "cell_type": "code",
      "execution_count": null,
      "metadata": {
        "id": "wfI-CHXbpxKc"
      },
      "outputs": [],
      "source": [
        "file_1 = pd.read_csv('3d_distances.csv')\n",
        "file_2 = pd.read_csv('angles.csv')\n",
        "file_3 = pd.read_csv('labels.csv')\n",
        "file_4 = pd.read_csv('landmarks.csv')\n",
        "file_5 = pd.read_csv('xyz_distances.csv')"
      ]
    },
    {
      "cell_type": "code",
      "execution_count": null,
      "metadata": {
        "id": "ul45NZKzqF4p"
      },
      "outputs": [],
      "source": [
        "merged_data = pd.merge(file_4,file_5,on='pose_id')\n",
        "merged_data = pd.merge(merged_data,file_1,on='pose_id')\n",
        "merged_data = pd.merge(merged_data,file_2,on='pose_id')\n",
        "\n",
        "merged_data = pd.merge(merged_data,file_3,on='pose_id')"
      ]
    },
    {
      "cell_type": "code",
      "execution_count": null,
      "metadata": {
        "colab": {
          "base_uri": "https://localhost:8080/"
        },
        "id": "BVp6pNFmL7X6",
        "outputId": "21dbc6d3-465b-4a50-89a7-e1f742824793"
      },
      "outputs": [],
      "source": [
        "merged_data.shape"
      ]
    },
    {
      "cell_type": "code",
      "execution_count": null,
      "metadata": {
        "id": "rZBwtd5CqiKj"
      },
      "outputs": [],
      "source": [
        "merged_data = merged_data.drop('pose_id',axis=1)\n",
        "merged_data = merged_data.drop('right_knee_mid_hip_left_knee',axis=1)"
      ]
    },
    {
      "cell_type": "code",
      "execution_count": null,
      "metadata": {
        "colab": {
          "base_uri": "https://localhost:8080/"
        },
        "id": "26PenYHirRLY",
        "outputId": "8a31b57a-40c3-4f9c-af8d-e3c587362103"
      },
      "outputs": [],
      "source": [
        "merged_data.shape"
      ]
    },
    {
      "cell_type": "code",
      "execution_count": null,
      "metadata": {
        "colab": {
          "base_uri": "https://localhost:8080/"
        },
        "id": "Ex9n3lifrXBc",
        "outputId": "bc5c8591-7299-4a42-aba0-2e9fc8e5486c"
      },
      "outputs": [],
      "source": [
        "merged_data['pose']"
      ]
    },
    {
      "cell_type": "code",
      "execution_count": null,
      "metadata": {
        "colab": {
          "base_uri": "https://localhost:8080/",
          "height": 143
        },
        "id": "qBGm1afTre-Y",
        "outputId": "0cf09809-538a-4c18-c612-30fc39c69187"
      },
      "outputs": [],
      "source": [
        "merged_data.iloc[:0,:]"
      ]
    },
    {
      "cell_type": "code",
      "execution_count": null,
      "metadata": {
        "colab": {
          "base_uri": "https://localhost:8080/",
          "height": 299
        },
        "id": "SPxaj-q5sS4k",
        "outputId": "0fcf3b64-2055-4f45-be07-72b91586c8dd"
      },
      "outputs": [],
      "source": [
        "merged_data.head()"
      ]
    },
    {
      "cell_type": "code",
      "execution_count": null,
      "metadata": {
        "colab": {
          "base_uri": "https://localhost:8080/"
        },
        "id": "76rOZRgpvYxL",
        "outputId": "045bc187-8fe2-490d-bffd-d25bbadffe0a"
      },
      "outputs": [],
      "source": [
        "merged_data['pose'].unique()"
      ]
    },
    {
      "cell_type": "code",
      "execution_count": null,
      "metadata": {
        "id": "ljXn3GUbvzdw"
      },
      "outputs": [],
      "source": [
        "copy = merged_data"
      ]
    },
    {
      "cell_type": "code",
      "execution_count": null,
      "metadata": {
        "colab": {
          "base_uri": "https://localhost:8080/"
        },
        "id": "9ys4vexg5l6D",
        "outputId": "491388e9-1e8c-47c3-d6d8-bbd7d6f0a80e"
      },
      "outputs": [],
      "source": [
        "merged_data['pose'].value_counts()"
      ]
    },
    {
      "cell_type": "markdown",
      "metadata": {},
      "source": [
        "separate features,target_variable"
      ]
    },
    {
      "cell_type": "code",
      "execution_count": null,
      "metadata": {
        "id": "MX_Z3g6WwgUe"
      },
      "outputs": [],
      "source": [
        "from sklearn.model_selection import train_test_split\n",
        "x= merged_data.drop(['pose'], axis='columns')\n",
        "y = merged_data['pose']"
      ]
    },
    {
      "cell_type": "code",
      "execution_count": null,
      "metadata": {
        "id": "UJKrpvYyAW4C"
      },
      "outputs": [],
      "source": [
        "encoder = LabelEncoder()\n",
        "y = merged_data['pose']\n",
        "y = encoder.fit_transform(y)"
      ]
    },
    {
      "cell_type": "code",
      "execution_count": null,
      "metadata": {
        "id": "pKGb43F7AAxJ"
      },
      "outputs": [],
      "source": [
        "class_weights = compute_class_weight(class_weight='balanced', classes=np.unique(y), y=y)\n",
        "class_weights_dict = {}\n",
        "for idx, k in enumerate(class_weights):\n",
        "    class_weights_dict[idx] = k"
      ]
    },
    {
      "cell_type": "code",
      "execution_count": null,
      "metadata": {
        "colab": {
          "base_uri": "https://localhost:8080/"
        },
        "id": "JiIqL5BoAJRJ",
        "outputId": "0c423be8-25d8-4627-d738-96ea4faa1fad"
      },
      "outputs": [],
      "source": [
        "class_weights_dict"
      ]
    },
    {
      "cell_type": "code",
      "execution_count": null,
      "metadata": {
        "colab": {
          "base_uri": "https://localhost:8080/"
        },
        "id": "OYAUi8p7eife",
        "outputId": "ae52912f-b7fb-49ae-fce0-05f3877a4aaa"
      },
      "outputs": [],
      "source": [
        "from sklearn.preprocessing import MinMaxScaler\n",
        "scaler = MinMaxScaler()\n",
        "# x = x.drop(['pose_id'],axis=1)\n",
        "x = scaler.fit_transform(x)\n",
        "x"
      ]
    },
    {
      "cell_type": "code",
      "execution_count": null,
      "metadata": {
        "id": "tuq2FFMY0Cwr"
      },
      "outputs": [],
      "source": [
        "X_train,X_test,Y_train,Y_test = train_test_split(x,y,test_size=0.2,random_state=42)"
      ]
    },
    {
      "cell_type": "code",
      "execution_count": null,
      "metadata": {},
      "outputs": [],
      "source": [
        "X_train.shape"
      ]
    },
    {
      "cell_type": "code",
      "execution_count": null,
      "metadata": {},
      "outputs": [],
      "source": [
        "X_test.shape"
      ]
    },
    {
      "cell_type": "code",
      "execution_count": null,
      "metadata": {
        "colab": {
          "base_uri": "https://localhost:8080/",
          "height": 74
        },
        "id": "vejORQ5J0ZRO",
        "outputId": "71c63e92-ea57-4b38-c5eb-a67e7dc1a96d"
      },
      "outputs": [],
      "source": [
        "from sklearn.ensemble import RandomForestClassifier\n",
        "\n",
        "classifier = RandomForestClassifier(random_state=42)\n",
        "\n",
        "classifier.fit(X_train,Y_train)"
      ]
    },
    {
      "cell_type": "code",
      "execution_count": null,
      "metadata": {
        "id": "gR4lYsJO1vJs"
      },
      "outputs": [],
      "source": [
        "y_pred = classifier.predict(X_test)\n",
        "accuracy_rf = accuracy_score(Y_test,y_pred)"
      ]
    },
    {
      "cell_type": "code",
      "execution_count": null,
      "metadata": {
        "colab": {
          "base_uri": "https://localhost:8080/"
        },
        "id": "V8qcH8RC2BdI",
        "outputId": "8f012bb8-4baf-4549-cbaf-012925238b53"
      },
      "outputs": [],
      "source": [
        "print(accuracy_rf)"
      ]
    },
    {
      "cell_type": "code",
      "execution_count": null,
      "metadata": {
        "id": "y-_bAbup2DVl"
      },
      "outputs": [],
      "source": [
        "from sklearn.metrics import classification_report\n",
        "print(classification_report(Y_test,y_pred))"
      ]
    },
    {
      "cell_type": "code",
      "execution_count": null,
      "metadata": {
        "colab": {
          "base_uri": "https://localhost:8080/",
          "height": 74
        },
        "id": "VuO9eJa45ZQO",
        "outputId": "c7d475f9-3536-45e1-9ec1-abcc0d484d32"
      },
      "outputs": [],
      "source": [
        "from sklearn import svm\n",
        "classifier_2 = svm.SVC()\n",
        "classifier_2.fit(X_train,Y_train)"
      ]
    },
    {
      "cell_type": "code",
      "execution_count": null,
      "metadata": {
        "colab": {
          "base_uri": "https://localhost:8080/"
        },
        "id": "zUSz86Zh6tmZ",
        "outputId": "149877ff-6193-4987-8e1d-a77b59da6bc5"
      },
      "outputs": [],
      "source": [
        "y_pred = classifier_2.predict(X_test)\n",
        "accuracy_svm = accuracy_score(Y_test,y_pred)\n",
        "print(accuracy_svm)"
      ]
    },
    {
      "cell_type": "code",
      "execution_count": null,
      "metadata": {
        "id": "gwu0LwOx66kh"
      },
      "outputs": [],
      "source": [
        "from sklearn.tree import DecisionTreeClassifier\n",
        "classifier_3 = DecisionTreeClassifier(random_state = 0)\n",
        "classifier_3.fit(X_train,Y_train)\n"
      ]
    },
    {
      "cell_type": "code",
      "execution_count": null,
      "metadata": {
        "colab": {
          "base_uri": "https://localhost:8080/"
        },
        "id": "RuBLVasg9J6C",
        "outputId": "32e25068-c12f-4e9f-f91c-0c6758bb955a"
      },
      "outputs": [],
      "source": [
        "y_pred = classifier_3.predict(X_test)\n",
        "accuracy = accuracy_score(Y_test,y_pred)\n",
        "print(accuracy)\n"
      ]
    },
    {
      "cell_type": "code",
      "execution_count": null,
      "metadata": {
        "colab": {
          "base_uri": "https://localhost:8080/"
        },
        "id": "Da1qExAl9T6U",
        "outputId": "cdfdf8e3-2ff8-471d-feaf-048bd452c54a"
      },
      "outputs": [],
      "source": [
        "print(classification_report(Y_test,y_pred))\n"
      ]
    },
    {
      "cell_type": "code",
      "execution_count": null,
      "metadata": {
        "id": "izUTm5HYca0G"
      },
      "outputs": [],
      "source": [
        "mp_pose = mp.solutions.pose\n",
        "pose = mp_pose.Pose(static_image_mode=True, min_detection_confidence=0.3, model_complexity=2)\n",
        "mp_drawing = mp.solutions.drawing_utils"
      ]
    },
    {
      "cell_type": "markdown",
      "metadata": {},
      "source": [
        "#Input : Image"
      ]
    },
    {
      "cell_type": "code",
      "execution_count": null,
      "metadata": {
        "colab": {
          "base_uri": "https://localhost:8080/",
          "height": 404
        },
        "id": "8J5pfrCgcsnb",
        "outputId": "6a70d799-569b-4849-9bff-959e53c1d1a5"
      },
      "outputs": [],
      "source": [
        "# import cv2\n",
        "# sample_img  = cv2.imread(r\"TestImages/pullups.jpeg\") #uploaded this image to colab\n",
        "# plt.figure(figsize = [10,10])                 #compress the size of image to 10x10\n",
        "# plt.title(\"sample_Image\");\n",
        "# plt.axis('off');                    #removes the labels\n",
        "# plt.imshow(sample_img[:,:,::-1]);  #converted bgr to rgb becoz to plt.show() expects rgb\n",
        "# plt.show()                          #prints the image"
      ]
    },
    {
      "cell_type": "markdown",
      "metadata": {},
      "source": [
        "#Input : Video "
      ]
    },
    {
      "cell_type": "code",
      "execution_count": null,
      "metadata": {},
      "outputs": [],
      "source": [
        "import cv2\n",
        "import mediapipe as mp\n",
        "import numpy as np\n",
        "import time\n",
        "\n",
        "mp_pose = mp.solutions.pose\n",
        "pose = mp_pose.Pose(static_image_mode=False, min_detection_confidence=0.5, min_tracking_confidence=0.5)\n",
        "\n",
        "points = mp_pose.PoseLandmark       \n",
        "\n",
        "data = []\n",
        "\n",
        "for p in points:\n",
        "        x = str(p)[13:]\n",
        "        data.append(x + \"_x\")\n",
        "        data.append(x + \"_y\")\n",
        "        data.append(x + \"_z\")\n",
        "        data.append(x + \"_vis\")\n",
        "data = pd.DataFrame(columns = data) \n",
        "\n",
        "\n",
        "def capture_image_and_landmarks():\n",
        "    cap = cv2.VideoCapture(0)\n",
        "\n",
        "    start_time = time.time()\n",
        "    last_frame = None\n",
        "\n",
        "    while time.time() - start_time <= 10:\n",
        "        ret, frame = cap.read()\n",
        "\n",
        "        if not ret:\n",
        "            print(\"Failed to capture frame.\")\n",
        "            break\n",
        "\n",
        "        imgRGB = cv2.cvtColor(frame, cv2.COLOR_BGR2RGB)\n",
        "\n",
        "        results = pose.process(imgRGB)\n",
        "\n",
        "        if results.pose_landmarks:\n",
        "            mp_drawing.draw_landmarks(frame, results.pose_landmarks, mp_pose.POSE_CONNECTIONS)\n",
        "\n",
        "            landmarks = results.pose_landmarks.landmark\n",
        "\n",
        "            dict = {}\n",
        "            for point, landmark in zip(points, landmarks):\n",
        "                dict[point.name] = [landmark.x, landmark.y, landmark.z]\n",
        "\n",
        "        last_frame = frame  \n",
        "\n",
        "        cv2.imshow(\"Camera\", frame)\n",
        "        cv2.waitKey(1)\n",
        "\n",
        "    cap.release()\n",
        "    cv2.destroyAllWindows()\n",
        "\n",
        "    return last_frame\n",
        "\n",
        "\n",
        "last_frame = capture_image_and_landmarks()\n",
        "\n",
        "\n",
        "if last_frame is not None:\n",
        "    plt.title(\"Pose_Captured\")\n",
        "    plt.axis('off')                     \n",
        "    plt.imshow(last_frame[:,:,::-1])     \n",
        "    plt.show()                          \n",
        "else:\n",
        "    print(\"No frames captured.\")\n",
        "\n",
        "sample_img = last_frame\n"
      ]
    },
    {
      "cell_type": "code",
      "execution_count": null,
      "metadata": {
        "id": "0kr2UqQed2zx"
      },
      "outputs": [],
      "source": [
        "results = pose.process(cv2.cvtColor(sample_img, cv2.COLOR_BGR2RGB))"
      ]
    },
    {
      "cell_type": "code",
      "execution_count": null,
      "metadata": {
        "colab": {
          "base_uri": "https://localhost:8080/"
        },
        "id": "JmAKWhLed7Gf",
        "outputId": "48d6c554-55b4-4433-d053-714267a81f99"
      },
      "outputs": [],
      "source": [
        "image_height, image_width, _ = sample_img.shape\n",
        "\n",
        "if results.pose_landmarks:\n",
        "\n",
        "    for i in range(11,20):\n",
        "\n",
        "        print(f'{mp_pose.PoseLandmark(i).name}:')\n",
        "        print(f'x: {results.pose_landmarks.landmark[mp_pose.PoseLandmark(i).value].x * image_width}')\n",
        "        print(f'y: {results.pose_landmarks.landmark[mp_pose.PoseLandmark(i).value].y * image_height}')\n",
        "        print(f'z: {results.pose_landmarks.landmark[mp_pose.PoseLandmark(i).value].z * image_width}')\n",
        "        print(f'visibility: {results.pose_landmarks.landmark[mp_pose.PoseLandmark(i).value].visibility}\\n')"
      ]
    },
    {
      "cell_type": "code",
      "execution_count": null,
      "metadata": {
        "colab": {
          "base_uri": "https://localhost:8080/",
          "height": 404
        },
        "id": "Tfb7CTvTd_BN",
        "outputId": "a68368a4-ce93-457a-983c-7461bcc5d6f0"
      },
      "outputs": [],
      "source": [
        "img_copy = sample_img.copy()\n",
        "height, width, _ = img_copy.shape\n",
        "landmarks = []\n",
        "\n",
        "if results.pose_landmarks:\n",
        "    mp_drawing.draw_landmarks(image=img_copy, landmark_list=results.pose_landmarks, connections=mp_pose.POSE_CONNECTIONS)\n",
        "    for landmark in results.pose_landmarks.landmark:\n",
        "\n",
        "            landmarks.append((int(landmark.x * width), int(landmark.y * height),\n",
        "                                  (landmark.z * width)))\n",
        "   \n",
        "    fig = plt.figure(figsize = [10, 10])\n",
        "\n",
        "    # Display the output image with the landmarks drawn, also convert BGR to RGB for display.\n",
        "    # plt.title(\"Output\");\n",
        "    # plt.axis('off');\n",
        "    # plt.imshow(img_copy[:,:,::-1]);\n",
        "    # plt.show()"
      ]
    },
    {
      "cell_type": "code",
      "execution_count": null,
      "metadata": {
        "colab": {
          "base_uri": "https://localhost:8080/"
        },
        "id": "GNxcX_ypeEct",
        "outputId": "b8898f0a-cd69-4d3d-c662-ebe3f58c61e8"
      },
      "outputs": [],
      "source": [
        "points = mp_pose.PoseLandmark      \n",
        "     \n",
        "data = []\n",
        "for p in points:\n",
        "  print(p)\n",
        "for p in points:\n",
        "        x = str(p)[13:]\n",
        "        data.append(x + \"_x\")\n",
        "        data.append(x + \"_y\")\n",
        "        data.append(x + \"_z\")\n",
        "        data.append(x + \"_vis\")\n",
        "data = pd.DataFrame(columns = data) "
      ]
    },
    {
      "cell_type": "markdown",
      "metadata": {},
      "source": [
        "#When Running in google-colab -> uncomment code with %"
      ]
    },
    {
      "cell_type": "code",
      "execution_count": null,
      "metadata": {
        "id": "uxFMY6RsgiTa"
      },
      "outputs": [],
      "source": [
        "# from google.colab.patches import cv2_imshow   #-------GoogleColab Instruction line----------\n"
      ]
    },
    {
      "cell_type": "code",
      "execution_count": null,
      "metadata": {
        "colab": {
          "base_uri": "https://localhost:8080/",
          "height": 453
        },
        "id": "AGMQZEWJhfeT",
        "outputId": "8cc301c1-ee28-4064-977b-eb0af0742b64"
      },
      "outputs": [],
      "source": [
        "count = 0\n",
        "temp = []\n",
        "img = sample_img\n",
        "\n",
        "        \n",
        "\n",
        "imgRGB = cv2.cvtColor(img, cv2.COLOR_BGR2RGB) \n",
        "       \n",
        "\n",
        "blackie = np.zeros(img.shape) \n",
        "\n",
        "results = pose.process(imgRGB)\n",
        "\n",
        "if results.pose_landmarks:\n",
        "        mp_drawing.draw_landmarks(blackie, results.pose_landmarks, mp_pose.POSE_CONNECTIONS) # draw landmarks on blackie\n",
        "\n",
        "        landmarks = results.pose_landmarks.landmark\n",
        "\n",
        "        dict = {}\n",
        "        for point, j in zip(points, landmarks):\n",
        "                temp = temp + [j.x, j.y, j.z]\n",
        "  \n",
        "                key = point.name\n",
        "                value = [temp[count], temp[count+1], temp[count+2]]\n",
        "                dict[key] = value\n",
        "                count = count + 1\n",
        "\n",
        "# cv2.imshow('img',img)\n",
        "\n",
        "# cv2.imshow('blackie',blackie)\n",
        "\n",
        "# cv2_imshow(img)               #-------GoogleColab Instruction line----------\n",
        "# cv2_imshow(blackie)           #-------GoogleColab Instruction line----------\n"
      ]
    },
    {
      "cell_type": "markdown",
      "metadata": {},
      "source": [
        "Some additional distances that are not calculated by media_pose but are present in training dataset"
      ]
    },
    {
      "cell_type": "code",
      "execution_count": null,
      "metadata": {
        "id": "2r7_JabTKirV"
      },
      "outputs": [],
      "source": [
        "#xyz_distances\n",
        "x_left_shoulder_left_wrist = dict['LEFT_WRIST'][0] - dict['LEFT_SHOULDER'][0] #(0.48930972814559937)-(-0.276510596275329)\n",
        "y_left_shoulder_left_wrist = dict['LEFT_WRIST'][1] - dict['LEFT_SHOULDER'][1]#(0.143650084733963) -  (0.4948402941226959)\n",
        "z_left_shoulder_left_wrist =  dict['LEFT_WRIST'][2] - dict['LEFT_SHOULDER'][2]#(-0.3052274286746979) - (0.14425188302993774)\n",
        "\n",
        "x_right_shoulder_right_wrist = dict['RIGHT_WRIST'][0] - dict['RIGHT_SHOULDER'][0]#0.143650084733963 - 0.4948402941226959\n",
        "y_right_shoulder_right_wrist = dict['RIGHT_WRIST'][1] - dict['RIGHT_SHOULDER'][1]#(-0.3052274286746979) -\t0.14425188302993774\n",
        "z_right_shoulder_right_wrist = dict['RIGHT_WRIST'][2] - dict['RIGHT_SHOULDER'][2]#0.48236632347106934 - (-0.3048369586467743)\n",
        "\n",
        "x_left_hip_left_ankle\t= dict['LEFT_ANKLE'][0] - dict['LEFT_HIP'][0]#0.5012699365615845 - (-0.12573319673538208)\n",
        "y_left_hip_left_ankle\t= dict['LEFT_ANKLE'][1] - dict['LEFT_HIP'][1]#0.1965891420841217 - 0.45757120847702026\n",
        "z_left_hip_left_ankle\t= dict['LEFT_ANKLE'][2] - dict['LEFT_HIP'][2]#(-0.24418438971042633)- 0.15223582088947296\n",
        "\n",
        "x_right_hip_right_ankle\t=  dict['RIGHT_ANKLE'][0] - dict['RIGHT_HIP'][0]\n",
        "y_right_hip_right_ankle\t= dict['RIGHT_ANKLE'][1] - dict['RIGHT_HIP'][1]\n",
        "z_right_hip_right_ankle = dict['RIGHT_ANKLE'][2] - dict['RIGHT_HIP'][2]\n",
        "\n",
        "x_left_hip_left_wrist\t= dict['LEFT_WRIST'][0] - dict['LEFT_HIP'][0]\n",
        "y_left_hip_left_wrist\t=  dict['LEFT_WRIST'][1] - dict['LEFT_HIP'][1]\n",
        "z_left_hip_left_wrist\t=  dict['LEFT_WRIST'][2] - dict['LEFT_HIP'][2]\n",
        "\n",
        "x_right_hip_right_wrist\t= dict['RIGHT_WRIST'][0] - dict['RIGHT_HIP'][0]\n",
        "y_right_hip_right_wrist\t= dict['RIGHT_WRIST'][1] - dict['RIGHT_HIP'][1]\n",
        "z_right_hip_right_wrist\t= dict['RIGHT_WRIST'][2] - dict['RIGHT_HIP'][2]\n",
        "\n",
        "x_left_shoulder_left_ankle\t= dict['LEFT_ANKLE'][0] - dict['LEFT_SHOULDER'][0]\n",
        "y_left_shoulder_left_ankle = dict['LEFT_ANKLE'][1] - dict['LEFT_SHOULDER'][1]\n",
        "z_left_shoulder_left_ankle = dict['LEFT_ANKLE'][2] - dict['LEFT_SHOULDER'][2]\n",
        "\n",
        "x_right_shoulder_right_ankle = dict['RIGHT_ANKLE'][0] - dict['RIGHT_SHOULDER'][0]\n",
        "y_right_shoulder_right_ankle = dict['RIGHT_ANKLE'][1] - dict['RIGHT_SHOULDER'][1]\n",
        "z_right_shoulder_right_ankle = dict['RIGHT_ANKLE'][2] - dict['RIGHT_SHOULDER'][2]\n",
        "\n",
        "x_left_hip_right_wrist = dict['RIGHT_WRIST'][0] - dict['LEFT_HIP'][0]\n",
        "y_left_hip_right_wrist = dict['RIGHT_WRIST'][1] - dict['LEFT_HIP'][1]\n",
        "z_left_hip_right_wrist = dict['RIGHT_WRIST'][2] - dict['LEFT_HIP'][2]\n",
        "\n",
        "x_right_hip_left_wrist = dict['LEFT_WRIST'][0] - dict['RIGHT_HIP'][0]\n",
        "y_right_hip_left_wrist\t= dict['LEFT_WRIST'][1] - dict['RIGHT_HIP'][1]\n",
        "z_right_hip_left_wrist\t= dict['LEFT_WRIST'][2] - dict['RIGHT_HIP'][2]\n",
        "\n",
        "x_left_elbow_right_elbow = dict['RIGHT_ELBOW'][0] - dict['LEFT_ELBOW'][0]\n",
        "y_left_elbow_right_elbow = dict['RIGHT_ELBOW'][1] - dict['LEFT_ELBOW'][1]\n",
        "z_left_elbow_right_elbow = dict['RIGHT_ELBOW'][2] - dict['LEFT_ELBOW'][2]\n",
        "\n",
        "x_left_knee_right_knee = dict['RIGHT_KNEE'][0] - dict['LEFT_KNEE'][0]\n",
        "y_left_knee_right_knee\t= dict['RIGHT_KNEE'][1] - dict['LEFT_KNEE'][1]\n",
        "z_left_knee_right_knee\t= dict['RIGHT_KNEE'][2] - dict['LEFT_KNEE'][2]\n",
        "\n",
        "x_left_wrist_right_wrist = dict['RIGHT_WRIST'][0] - dict['LEFT_WRIST'][0]\n",
        "y_left_wrist_right_wrisT = dict['RIGHT_WRIST'][1] - dict['LEFT_WRIST'][1]\n",
        "z_left_wrist_right_wrist = dict['RIGHT_WRIST'][2] - dict['LEFT_WRIST'][2]\n",
        "\n",
        "x_left_ankle_right_ankle = dict['RIGHT_ANKLE'][0] - dict['LEFT_ANKLE'][0]\n",
        "y_left_ankle_right_ankle\t= dict['RIGHT_ANKLE'][1] - dict['LEFT_ANKLE'][1]\n",
        "z_left_ankle_right_ankle = dict['RIGHT_ANKLE'][2] - dict['LEFT_ANKLE'][2]\n",
        "\n",
        "x_left_hip_avg_left_wrist_left_ankle = dict['LEFT_HIP'][0]-(dict['LEFT_WRIST'][0] + dict['LEFT_ANKLE'][0])/2\n",
        "y_left_hip_avg_left_wrist_left_ankle = dict['LEFT_HIP'][1]-(dict['LEFT_WRIST'][1] + dict['LEFT_ANKLE'][1])/2\n",
        "z_left_hip_avg_left_wrist_left_ankle = dict['LEFT_HIP'][2]-(dict['LEFT_WRIST'][2] + dict['LEFT_ANKLE'][2])/2\n",
        "\n",
        "x_right_hip_avg_right_wrist_right_ankle = dict['RIGHT_HIP'][0]-(dict['RIGHT_WRIST'][0] + dict['RIGHT_ANKLE'][0])/2\n",
        "y_right_hip_avg_right_wrist_right_ankle\t= dict['RIGHT_HIP'][1]-(dict['RIGHT_WRIST'][1] + dict['RIGHT_ANKLE'][1])/2\n",
        "z_right_hip_avg_right_wrist_right_ankle = dict['RIGHT_HIP'][2]-(dict['RIGHT_WRIST'][2] + dict['RIGHT_ANKLE'][2])/2\n"
      ]
    },
    {
      "cell_type": "code",
      "execution_count": null,
      "metadata": {
        "id": "-bf7_QnfM_Ly"
      },
      "outputs": [],
      "source": [
        "#xyz_distances\n",
        "c1 = dict['LEFT_WRIST'][0] - dict['LEFT_SHOULDER'][0]\n",
        "c2 = dict['LEFT_WRIST'][1] - dict['LEFT_SHOULDER'][1]\n",
        "c3 =  dict['LEFT_WRIST'][2] - dict['LEFT_SHOULDER'][2]\n",
        "\n",
        "c4 = dict['RIGHT_WRIST'][0] - dict['RIGHT_SHOULDER'][0]\n",
        "c5 = dict['RIGHT_WRIST'][1] - dict['RIGHT_SHOULDER'][1]\n",
        "c6 = dict['RIGHT_WRIST'][2] - dict['RIGHT_SHOULDER'][2]\n",
        "\n",
        "c7\t= dict['LEFT_ANKLE'][0] - dict['LEFT_HIP'][0]\n",
        "c8\t= dict['LEFT_ANKLE'][1] - dict['LEFT_HIP'][1]\n",
        "c9\t= dict['LEFT_ANKLE'][2] - dict['LEFT_HIP'][2]\n",
        "\n",
        "c10\t=  dict['RIGHT_ANKLE'][0] - dict['RIGHT_HIP'][0]\n",
        "c11\t= dict['RIGHT_ANKLE'][1] - dict['RIGHT_HIP'][1]\n",
        "c12 = dict['RIGHT_ANKLE'][2] - dict['RIGHT_HIP'][2]\n",
        "\n",
        "c13\t= dict['LEFT_WRIST'][0] - dict['LEFT_HIP'][0]\n",
        "c14\t=  dict['LEFT_WRIST'][1] - dict['LEFT_HIP'][1]\n",
        "c15=  dict['LEFT_WRIST'][2] - dict['LEFT_HIP'][2]\n",
        "\n",
        "c16\t= dict['RIGHT_WRIST'][0] - dict['RIGHT_HIP'][0]\n",
        "c17\t= dict['RIGHT_WRIST'][1] - dict['RIGHT_HIP'][1]\n",
        "c18= dict['RIGHT_WRIST'][2] - dict['RIGHT_HIP'][2]\n",
        "\n",
        "c19\t= dict['LEFT_ANKLE'][0] - dict['LEFT_SHOULDER'][0]\n",
        "c20 = dict['LEFT_ANKLE'][1] - dict['LEFT_SHOULDER'][1]\n",
        "c21 = dict['LEFT_ANKLE'][2] - dict['LEFT_SHOULDER'][2]\n",
        "\n",
        "c22 = dict['RIGHT_ANKLE'][0] - dict['RIGHT_SHOULDER'][0]\n",
        "c23 = dict['RIGHT_ANKLE'][1] - dict['RIGHT_SHOULDER'][1]\n",
        "c24 = dict['RIGHT_ANKLE'][2] - dict['RIGHT_SHOULDER'][2]\n",
        "\n",
        "c25 = dict['RIGHT_WRIST'][0] - dict['LEFT_HIP'][0]\n",
        "c26 = dict['RIGHT_WRIST'][1] - dict['LEFT_HIP'][1]\n",
        "c27 = dict['RIGHT_WRIST'][2] - dict['LEFT_HIP'][2]\n",
        "\n",
        "c28 = dict['LEFT_WRIST'][0] - dict['RIGHT_HIP'][0]\n",
        "c29\t= dict['LEFT_WRIST'][1] - dict['RIGHT_HIP'][1]\n",
        "c30\t= dict['LEFT_WRIST'][2] - dict['RIGHT_HIP'][2]\n",
        "\n",
        "c31 = dict['RIGHT_ELBOW'][0] - dict['LEFT_ELBOW'][0]\n",
        "c32 = dict['RIGHT_ELBOW'][1] - dict['LEFT_ELBOW'][1]\n",
        "c33 = dict['RIGHT_ELBOW'][2] - dict['LEFT_ELBOW'][2]\n",
        "\n",
        "c34 = dict['RIGHT_KNEE'][0] - dict['LEFT_KNEE'][0]\n",
        "c35\t= dict['RIGHT_KNEE'][1] - dict['LEFT_KNEE'][1]\n",
        "c36\t= dict['RIGHT_KNEE'][2] - dict['LEFT_KNEE'][2]\n",
        "\n",
        "c37 = dict['RIGHT_WRIST'][0] - dict['LEFT_WRIST'][0]\n",
        "c38 = dict['RIGHT_WRIST'][1] - dict['LEFT_WRIST'][1]\n",
        "c39 = dict['RIGHT_WRIST'][2] - dict['LEFT_WRIST'][2]\n",
        "\n",
        "c40 = dict['RIGHT_ANKLE'][0] - dict['LEFT_ANKLE'][0]\n",
        "c41\t= dict['RIGHT_ANKLE'][1] - dict['LEFT_ANKLE'][1]\n",
        "c42= dict['RIGHT_ANKLE'][2] - dict['LEFT_ANKLE'][2]\n",
        "\n",
        "c43 = dict['LEFT_HIP'][0]-(dict['LEFT_WRIST'][0] + dict['LEFT_ANKLE'][0])/2\n",
        "c44 = dict['LEFT_HIP'][1]-(dict['LEFT_WRIST'][1] + dict['LEFT_ANKLE'][1])/2\n",
        "c45 = dict['LEFT_HIP'][2]-(dict['LEFT_WRIST'][2] + dict['LEFT_ANKLE'][2])/2\n",
        "\n",
        "c46 = dict['RIGHT_HIP'][0]-(dict['RIGHT_WRIST'][0] + dict['RIGHT_ANKLE'][0])/2\n",
        "c47\t= dict['RIGHT_HIP'][1]-(dict['RIGHT_WRIST'][1] + dict['RIGHT_ANKLE'][1])/2\n",
        "c48 = dict['RIGHT_HIP'][2]-(dict['RIGHT_WRIST'][2] + dict['RIGHT_ANKLE'][2])/2\n"
      ]
    },
    {
      "cell_type": "code",
      "execution_count": null,
      "metadata": {
        "id": "GkxkEXH_2i1j"
      },
      "outputs": [],
      "source": [
        "#3d_distances\n",
        "\n",
        "c49 = np.sqrt((dict['LEFT_WRIST'][0] - dict['LEFT_SHOULDER'][0])**2 + (dict['LEFT_WRIST'][1] - dict['LEFT_SHOULDER'][1])**2 + (dict['LEFT_WRIST'][2] - dict['LEFT_SHOULDER'][2])**2)\n",
        "c50 = np.sqrt((dict['RIGHT_WRIST'][0] - dict['RIGHT_SHOULDER'][0])**2 + (dict['RIGHT_WRIST'][1] - dict['RIGHT_SHOULDER'][1])**2 + (dict['RIGHT_WRIST'][2] - dict['RIGHT_SHOULDER'][2])**2)\n",
        "c51= np.sqrt((dict['LEFT_ANKLE'][0] - dict['LEFT_HIP'][0])**2 + (dict['LEFT_ANKLE'][1] - dict['LEFT_HIP'][1])**2 + (dict['LEFT_ANKLE'][2] - dict['LEFT_HIP'][2])**2)\n",
        "c52= np.sqrt((dict['RIGHT_ANKLE'][0] - dict['RIGHT_HIP'][0])**2 + (dict['RIGHT_ANKLE'][1] - dict['RIGHT_HIP'][1])**2 + (dict['RIGHT_ANKLE'][2] - dict['RIGHT_HIP'][2])**2)\n",
        "c53\t= np.sqrt((dict['LEFT_WRIST'][0] - dict['LEFT_HIP'][0])**2 + (dict['LEFT_WRIST'][1] - dict['LEFT_HIP'][1])**2 + (dict['LEFT_WRIST'][2] - dict['LEFT_HIP'][2])**2)\n",
        "c54\t= np.sqrt((dict['RIGHT_WRIST'][0] - dict['RIGHT_HIP'][0])**2 + (dict['RIGHT_WRIST'][1] - dict['RIGHT_HIP'][1])**2 + (dict['RIGHT_WRIST'][2] - dict['RIGHT_HIP'][2])**2)\n",
        "c55 = np.sqrt((dict['LEFT_ANKLE'][0] - dict['LEFT_SHOULDER'][0])**2 + (dict['LEFT_ANKLE'][1] - dict['LEFT_SHOULDER'][1])**2 + (dict['LEFT_ANKLE'][2] - dict['LEFT_SHOULDER'][2])**2)\n",
        "c56 = np.sqrt((dict['RIGHT_ANKLE'][0] - dict['RIGHT_SHOULDER'][0])**2 + (dict['RIGHT_ANKLE'][1] - dict['RIGHT_SHOULDER'][1])**2 + (dict['RIGHT_ANKLE'][2] - dict['RIGHT_SHOULDER'][2])**2)\n",
        "c57 = np.sqrt((dict['RIGHT_WRIST'][0] - dict['LEFT_HIP'][0])**2 + (dict['RIGHT_WRIST'][1] - dict['LEFT_HIP'][1])**2 + (dict['RIGHT_WRIST'][2] - dict['LEFT_HIP'][2])**2)\n",
        "c58 = np.sqrt((dict['LEFT_WRIST'][0] - dict['RIGHT_HIP'][0])**2 + (dict['LEFT_WRIST'][1] - dict['RIGHT_HIP'][1])**2 + (dict['LEFT_WRIST'][2] - dict['RIGHT_HIP'][2])**2)\n",
        "c59= np.sqrt((dict['RIGHT_ELBOW'][0] - dict['LEFT_ELBOW'][0])**2 + (dict['RIGHT_ELBOW'][1] - dict['LEFT_ELBOW'][1])**2 + (dict['RIGHT_ELBOW'][2] - dict['LEFT_ELBOW'][2])**2)\n",
        "c60 = np.sqrt((dict['RIGHT_KNEE'][0] - dict['LEFT_KNEE'][0])**2 + (dict['RIGHT_KNEE'][1] - dict['LEFT_KNEE'][1])**2 + (dict['RIGHT_KNEE'][2] - dict['LEFT_KNEE'][2])**2)\n",
        "c61 = np.sqrt((dict['RIGHT_WRIST'][0] - dict['LEFT_WRIST'][0])**2 + (dict['RIGHT_WRIST'][1] - dict['LEFT_WRIST'][1])**2 + (dict['RIGHT_WRIST'][2] - dict['LEFT_WRIST'][2])**2)\n",
        "c62 = np.sqrt((dict['RIGHT_ANKLE'][0] - dict['LEFT_ANKLE'][0])**2 + (dict['RIGHT_ANKLE'][1] - dict['LEFT_ANKLE'][1])**2 + (dict['RIGHT_ANKLE'][2] - dict['LEFT_ANKLE'][2])**2)\n",
        "\n",
        "x_avg = (dict['LEFT_WRIST'][0] + dict['LEFT_ANKLE'][0])/2\n",
        "y_avg = (dict['LEFT_WRIST'][1] + dict['LEFT_ANKLE'][1])/2\n",
        "z_avg = (dict['LEFT_WRIST'][2] + dict['LEFT_ANKLE'][2])/2\n",
        "\n",
        "c63 = np.sqrt((x_avg - dict['LEFT_HIP'][0])**2 + (y_avg - dict['LEFT_HIP'][1])**2 + (z_avg - dict['LEFT_HIP'][2])**2)\n",
        "\n",
        "\n",
        "\n",
        "x_avg = (dict['RIGHT_WRIST'][0] + dict['LEFT_ANKLE'][0])/2\n",
        "y_avg = (dict['RIGHT_WRIST'][1] + dict['LEFT_ANKLE'][1])/2\n",
        "z_avg = (dict['RIGHT_WRIST'][2] + dict['LEFT_ANKLE'][2])/2\n",
        "c64 = np.sqrt((x_avg - dict['RIGHT_HIP'][0])**2 + (y_avg - dict['RIGHT_HIP'][1])**2 + (z_avg - dict['RIGHT_HIP'][2])**2)"
      ]
    },
    {
      "cell_type": "code",
      "execution_count": null,
      "metadata": {
        "id": "zkLO4kjKl5t3"
      },
      "outputs": [],
      "source": [
        "#angles\n",
        "import math\n",
        "import numpy as np\n",
        "\n",
        "Ax = dict['RIGHT_SHOULDER'][0] - dict['RIGHT_ELBOW'][0]\n",
        "Ay = dict['RIGHT_SHOULDER'][1] - dict['RIGHT_ELBOW'][1]\n",
        "Az = dict['RIGHT_SHOULDER'][2] - dict['RIGHT_ELBOW'][2]\n",
        "Bx = dict['RIGHT_SHOULDER'][0] - dict['RIGHT_HIP'][0]\n",
        "By = dict['RIGHT_SHOULDER'][1] - dict['RIGHT_HIP'][1]\n",
        "Bz = dict['RIGHT_SHOULDER'][2] - dict['RIGHT_HIP'][2]\n",
        "AdotB = (Ax * Bx) + (Ay * By) + (Az * Bz)\n",
        "modA = np.sqrt(Ax**2 + Ay**2 + Az**2)\n",
        "modB = np.sqrt(Bx**2 + By**2 + Bz**2)\n",
        "cos_angle = AdotB / (modA * modB)\n",
        "angle = np.arccos(cos_angle)\n",
        "c65= np.degrees(angle)\n",
        "\n",
        "Ax = dict['LEFT_SHOULDER'][0] - dict['LEFT_ELBOW'][0]\n",
        "Ay = dict['LEFT_SHOULDER'][1] - dict['LEFT_ELBOW'][1]\n",
        "Az = dict['LEFT_SHOULDER'][2] - dict['LEFT_ELBOW'][2]\n",
        "Bx = dict['LEFT_SHOULDER'][0] - dict['LEFT_HIP'][0]\n",
        "By = dict['LEFT_SHOULDER'][1] - dict['LEFT_HIP'][1]\n",
        "Bz = dict['LEFT_SHOULDER'][2] - dict['LEFT_HIP'][2]\n",
        "AdotB = (Ax * Bx) + (Ay * By) + (Az * Bz)\n",
        "modA = np.sqrt(Ax**2 + Ay**2 + Az**2)\n",
        "modB = np.sqrt(Bx**2 + By**2 + Bz**2)\n",
        "cos_angle = AdotB / (modA * modB)\n",
        "angle = np.arccos(cos_angle)\n",
        "c66\t= np.degrees(angle)\n",
        "\n",
        "Ax = (dict['LEFT_HIP'][0] + dict['RIGHT_HIP'][0])/2 - dict['RIGHT_KNEE'][0]\n",
        "Ay =(dict['LEFT_HIP'][1] + dict['RIGHT_HIP'][1])/2 - dict['RIGHT_KNEE'][1]\n",
        "Az = (dict['LEFT_HIP'][2] + dict['RIGHT_HIP'][2])/2 - dict['RIGHT_KNEE'][2]\n",
        "Bx = (dict['LEFT_HIP'][0] + dict['RIGHT_HIP'][0])/2 - dict['LEFT_KNEE'][0]\n",
        "By = (dict['LEFT_HIP'][1] + dict['RIGHT_HIP'][1])/2 - dict['LEFT_KNEE'][1]\n",
        "Bz = (dict['LEFT_HIP'][2] + dict['RIGHT_HIP'][2])/2 - dict['LEFT_KNEE'][2]\n",
        "AdotB = (Ax * Bx) + (Ay * By) + (Az * Bz)\n",
        "modA = np.sqrt(Ax**2 + Ay**2 + Az**2)\n",
        "modB = np.sqrt(Bx**2 + By**2 + Bz**2)\n",
        "cos_angle = AdotB / (modA * modB)\n",
        "angle = np.arccos(cos_angle)\n",
        "c67 = np.degrees(angle)\n",
        "\n",
        "\n",
        "\n",
        "Ax = dict['RIGHT_KNEE'][0] - dict['RIGHT_HIP'][0]\n",
        "Ay = dict['RIGHT_KNEE'][1] - dict['RIGHT_HIP'][1]\n",
        "Az = dict['RIGHT_KNEE'][2] - dict['RIGHT_HIP'][2]\n",
        "Bx = dict['RIGHT_KNEE'][0] - dict['RIGHT_ANKLE'][0]\n",
        "By = dict['RIGHT_KNEE'][1] - dict['RIGHT_ANKLE'][1]\n",
        "Bz = dict['RIGHT_KNEE'][2] - dict['RIGHT_ANKLE'][2]\n",
        "AdotB = (Ax * Bx) + (Ay * By) + (Az * Bz)\n",
        "modA = np.sqrt(Ax**2 + Ay**2 + Az**2)\n",
        "modB = np.sqrt(Bx**2 + By**2 + Bz**2)\n",
        "cos_angle = AdotB / (modA * modB)\n",
        "angle = np.arccos(cos_angle)\n",
        "c68 = np.degrees(angle)\n",
        "\n",
        "Ax = dict['LEFT_KNEE'][0] - dict['LEFT_HIP'][0]\n",
        "Ay = dict['LEFT_KNEE'][1] - dict['LEFT_HIP'][1]\n",
        "Az = dict['LEFT_KNEE'][2] - dict['LEFT_HIP'][2]\n",
        "Bx = dict['LEFT_KNEE'][0] - dict['LEFT_ANKLE'][0]\n",
        "By = dict['LEFT_KNEE'][1] - dict['LEFT_ANKLE'][1]\n",
        "Bz = dict['LEFT_KNEE'][2] - dict['LEFT_ANKLE'][2]\n",
        "AdotB = (Ax * Bx) + (Ay * By) + (Az * Bz)\n",
        "modA = np.sqrt(Ax**2 + Ay**2 + Az**2)\n",
        "modB = np.sqrt(Bx**2 + By**2 + Bz**2)\n",
        "cos_angle = AdotB / (modA * modB)\n",
        "angle = np.arccos(cos_angle)\n",
        "c69=  np.degrees(angle)\n",
        "\n",
        "\n",
        "Ax = dict['RIGHT_ELBOW'][0] - dict['RIGHT_WRIST'][0]\n",
        "Ay = dict['RIGHT_ELBOW'][1] - dict['RIGHT_WRIST'][1]\n",
        "Az = dict['RIGHT_ELBOW'][2] - dict['RIGHT_WRIST'][2]\n",
        "Bx = dict['RIGHT_ELBOW'][0] - dict['RIGHT_SHOULDER'][0]\n",
        "By = dict['RIGHT_ELBOW'][1] - dict['RIGHT_SHOULDER'][1]\n",
        "Bz = dict['RIGHT_ELBOW'][2] - dict['RIGHT_SHOULDER'][2]\n",
        "AdotB = (Ax * Bx) + (Ay * By) + (Az * Bz)\n",
        "modA = np.sqrt(Ax**2 + Ay**2 + Az**2)\n",
        "modB = np.sqrt(Bx**2 + By**2 + Bz**2)\n",
        "cos_angle = AdotB / (modA * modB)\n",
        "angle = np.arccos(cos_angle)\n",
        "c70 = np.degrees(angle)\n",
        "\n",
        "Ax = dict['LEFT_ELBOW'][0] - dict['LEFT_WRIST'][0]\n",
        "Ay = dict['LEFT_ELBOW'][1] - dict['LEFT_WRIST'][1]\n",
        "Az = dict['LEFT_ELBOW'][2] - dict['LEFT_WRIST'][2]\n",
        "Bx = dict['LEFT_ELBOW'][0] - dict['LEFT_SHOULDER'][0]\n",
        "By = dict['LEFT_ELBOW'][1] - dict['LEFT_SHOULDER'][1]\n",
        "Bz = dict['LEFT_ELBOW'][2] - dict['LEFT_SHOULDER'][2]\n",
        "AdotB = (Ax * Bx) + (Ay * By) + (Az * Bz)\n",
        "modA = np.sqrt(Ax**2 + Ay**2 + Az**2)\n",
        "modB = np.sqrt(Bx**2 + By**2 + Bz**2)\n",
        "cos_angle = AdotB / (modA * modB)\n",
        "angle = np.arccos(cos_angle)\n",
        "c71 = np.degrees(angle)\n"
      ]
    },
    {
      "cell_type": "code",
      "execution_count": null,
      "metadata": {
        "id": "bCvjyb8qONIj"
      },
      "outputs": [],
      "source": [
        "for i in range(1,72):\n",
        "  if(i!=67):\n",
        "    temp.append(locals()['c' + str(i)])"
      ]
    },
    {
      "cell_type": "markdown",
      "metadata": {},
      "source": [
        "convert list to numpy array and reshape it to 2D array"
      ]
    },
    {
      "cell_type": "code",
      "execution_count": null,
      "metadata": {
        "colab": {
          "base_uri": "https://localhost:8080/"
        },
        "id": "7vRaxTS3rvB8",
        "outputId": "7da3e497-c2d3-4ee5-e203-801d75b4d6bb"
      },
      "outputs": [],
      "source": [
        "\n",
        "temp = np.array(temp)         \n",
        "temp = temp.reshape(-1, 169)  \n",
        "print(temp)"
      ]
    },
    {
      "cell_type": "code",
      "execution_count": null,
      "metadata": {
        "id": "TDPKVUNboAer"
      },
      "outputs": [],
      "source": [
        "y_pred = classifier.predict(temp)"
      ]
    },
    {
      "cell_type": "markdown",
      "metadata": {},
      "source": [
        "Model Predicted Output"
      ]
    },
    {
      "cell_type": "code",
      "execution_count": null,
      "metadata": {
        "colab": {
          "base_uri": "https://localhost:8080/"
        },
        "id": "xIPqTjZlrIaM",
        "outputId": "667ebb0b-2ac6-4907-9a31-df6649efb5cd"
      },
      "outputs": [],
      "source": [
        "y_pred_class_names = encoder.inverse_transform(y_pred)\n",
        "y_pred_class_names"
      ]
    },
    {
      "cell_type": "code",
      "execution_count": null,
      "metadata": {
        "id": "ygWU80r8GKSf"
      },
      "outputs": [],
      "source": []
    }
  ],
  "metadata": {
    "colab": {
      "provenance": []
    },
    "kernelspec": {
      "display_name": "Python 3",
      "name": "python3"
    },
    "language_info": {
      "codemirror_mode": {
        "name": "ipython",
        "version": 3
      },
      "file_extension": ".py",
      "mimetype": "text/x-python",
      "name": "python",
      "nbconvert_exporter": "python",
      "pygments_lexer": "ipython3",
      "version": "3.11.4"
    }
  },
  "nbformat": 4,
  "nbformat_minor": 0
}
